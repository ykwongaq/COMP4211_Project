{
  "nbformat": 4,
  "nbformat_minor": 0,
  "metadata": {
    "colab": {
      "name": "find_test_index.ipynb",
      "provenance": [],
      "collapsed_sections": []
    },
    "kernelspec": {
      "name": "python3",
      "display_name": "Python 3"
    }
  },
  "cells": [
    {
      "cell_type": "code",
      "metadata": {
        "id": "iyzwI6DS1oaY"
      },
      "source": [
        "def get_test_image(FileName,folders):\r\n",
        "  img_info=dict()\r\n",
        "  for folder in folders:\r\n",
        "        output = []\r\n",
        "        with open('data/bbox_'+folder+'.csv') as f:\r\n",
        "          idx = -1\r\n",
        "          last_name = 'none'\r\n",
        "          for line in f.read().splitlines():\r\n",
        "            filename, _, _, _, *box = line.split(',')\r\n",
        "            if filename == 'filename':\r\n",
        "              continue\r\n",
        "            if filename==last_name:\r\n",
        "              continue\r\n",
        "            else:\r\n",
        "              idx = idx + 1\r\n",
        "              last_name=filename\r\n",
        "            \r\n",
        "            if filename in target_fileName:\r\n",
        "              output.append(idx)\r\n",
        "        img_info[folder]=output\r\n",
        "  return img_info"
      ],
      "execution_count": null,
      "outputs": []
    },
    {
      "cell_type": "code",
      "metadata": {
        "id": "wpcjB8Ek1xW4"
      },
      "source": [
        "target_fileName = [\"HS_H08_20160313_0330_25.41_122.35.npy\",\r\n",
        "          \"HS_H08_20171122_1600_32.56_133.1.npy\",\r\n",
        "          \"HS_H08_20180312_1730_27.06_106.49.npy\",\r\n",
        "          \"HS_H08_20190105_0430_32.541389_114.077778.npy\"]\r\n",
        "target_folder=['test','train','val']\r\n",
        "image_info=get_test_image(target_fileName,target_folder)"
      ],
      "execution_count": null,
      "outputs": []
    }
  ]
}