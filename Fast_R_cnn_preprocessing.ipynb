{
  "nbformat": 4,
  "nbformat_minor": 0,
  "metadata": {
    "kernelspec": {
      "display_name": "Python 3",
      "language": "python",
      "name": "python3"
    },
    "language_info": {
      "codemirror_mode": {
        "name": "ipython",
        "version": 3
      },
      "file_extension": ".py",
      "mimetype": "text/x-python",
      "name": "python",
      "nbconvert_exporter": "python",
      "pygments_lexer": "ipython3",
      "version": "3.8.5"
    },
    "colab": {
      "name": "Fast_R_cnn.ipynb",
      "provenance": [],
      "collapsed_sections": [],
      "toc_visible": true,
      "machine_shape": "hm"
    },
    "accelerator": "GPU"
  },
  "cells": [
    {
      "cell_type": "code",
      "metadata": {
        "id": "hT42F05lCKtv"
      },
      "source": [
        "import time\n",
        "import os\n",
        "import random\n",
        "import math\n",
        "\n",
        "import torch\n",
        "import torchvision\n",
        "import torch.nn as nn\n",
        "import torch.optim as optim\n",
        "import numpy as np\n",
        "import matplotlib.pyplot as plt\n",
        "from torch.utils.data import Dataset\n",
        "from torch.optim import lr_scheduler\n",
        "from torch.autograd import Variable\n",
        "from torchvision import transforms, models\n",
        "from PIL import Image\n",
        "from sklearn.model_selection import KFold\n",
        "from tqdm.auto import tqdm\n",
        "from scipy import ndimage\n",
        "import pickle\n",
        "\n",
        "%matplotlib inline"
      ],
      "execution_count": 1,
      "outputs": []
    },
    {
      "cell_type": "code",
      "metadata": {
        "colab": {
          "base_uri": "https://localhost:8080/"
        },
        "id": "1WUXmPLACKtv",
        "outputId": "2abb7122-afae-4fd6-91b2-cc06a3259aa6"
      },
      "source": [
        "assert os.environ['COLAB_GPU'], 'Make sure to select GPU from Edit > Notebook settings > Hardware accelerator'\n",
        "from google.colab import drive\n",
        "drive.mount('/content/drive')"
      ],
      "execution_count": 2,
      "outputs": [
        {
          "output_type": "stream",
          "text": [
            "Mounted at /content/drive\n"
          ],
          "name": "stdout"
        }
      ]
    },
    {
      "cell_type": "code",
      "metadata": {
        "id": "qsyFTu4rCP3G"
      },
      "source": [
        "!rm -f data\n",
        "!ln -s '/content/drive/MyDrive/proj2_data' data"
      ],
      "execution_count": 3,
      "outputs": []
    },
    {
      "cell_type": "markdown",
      "metadata": {
        "id": "w4CcEo-6b_pt"
      },
      "source": [
        "#some utility"
      ]
    },
    {
      "cell_type": "code",
      "metadata": {
        "id": "9i5Rf9j6qkVU"
      },
      "source": [
        "def collate_fn1(batch):\n",
        "    return tuple(zip(*batch))\n",
        "\n",
        "def imshow(img, gt_box, turb_type,pred_box=None):\n",
        "    plt.imshow(img)\n",
        "    \n",
        "    def draw_box(box, turb_type):\n",
        "        x, y, w, h = box\n",
        "        if x == 0:\n",
        "            x = 1\n",
        "        if y == 0:\n",
        "            y = 1\n",
        "        if turb_type=='turbulence':\n",
        "          color='red'\n",
        "        else:\n",
        "          color='green'\n",
        "        plt.gca().add_patch(\n",
        "            plt.Rectangle((x, y), w-x, h-y,\n",
        "                          fill=False, edgecolor=color, linewidth=2, alpha=0.5)\n",
        "        )\n",
        "    for i in range(len(box)):\n",
        "      draw_box(box[i],turb_type[i])\n",
        "    if pred_box is not None:\n",
        "        draw_box(pred_box, 'blue')\n",
        "    plt.plot()\n",
        "\n",
        "def to_2d_tensor(inp):\n",
        "    inp = torch.Tensor(inp)\n",
        "    if len(inp.size()) < 2:\n",
        "        inp = inp.unsqueeze(0)\n",
        "    return inp\n",
        "\n",
        "def box_transform_inv(boxes, im_sizes):\n",
        "    # box in (x, y, w, h) format\n",
        "    boxes = to_2d_tensor(boxes)\n",
        "    im_sizes = to_2d_tensor(im_sizes)\n",
        "    boxes[:, 0] = (boxes[:, 0] + 1) / 2 * im_sizes[:, 0]\n",
        "    boxes[:, 1] = (boxes[:, 1] + 1) / 2 * im_sizes[:, 1]\n",
        "    boxes[:, 2] = boxes[:, 2] / 2 * im_sizes[:, 0]\n",
        "    boxes[:, 3] = boxes[:, 3] / 2 * im_sizes[:, 1]\n",
        "    return boxes\n",
        "\n",
        "def box_transform(boxes, im_sizes):\n",
        "    # box in (x, y, w, h) format\n",
        "    boxes = to_2d_tensor(boxes)\n",
        "    im_sizes = to_2d_tensor(im_sizes)\n",
        "    boxes[:, 0] = 2 * boxes[:, 0] / im_sizes[:, 0] - 1\n",
        "    boxes[:, 1] = 2 * boxes[:, 1] / im_sizes[:, 1] - 1\n",
        "    boxes[:, 2] = 2 * boxes[:, 2] / im_sizes[:, 0]\n",
        "    boxes[:, 3] = 2 * boxes[:, 3] / im_sizes[:, 1]\n",
        "    return boxes\n",
        "\n",
        "def xywh_to_x1y1x2y2(boxes):\n",
        "    boxes = to_2d_tensor(boxes)\n",
        "    boxes[:, 2] += boxes[:, 0] - 1\n",
        "    boxes[:, 3] += boxes[:, 1] - 1\n",
        "    return boxes\n",
        "\n",
        "def x1y1x2y2_to_xywh(boxes):\n",
        "    boxes = to_2d_tensor(boxes)\n",
        "    boxes[:, 2] -= boxes[:, 0] - 1\n",
        "    boxes[:, 3] -= boxes[:, 1] - 1\n",
        "    return boxes\n",
        "\n",
        "def compute_IoU(boxes1, boxes2):\n",
        "    boxes1 = to_2d_tensor(boxes1)\n",
        "    boxes1 = xywh_to_x1y1x2y2(boxes1)\n",
        "    boxes2 = to_2d_tensor(boxes2)\n",
        "    boxes2 = xywh_to_x1y1x2y2(boxes2)\n",
        "    \n",
        "    intersec = boxes1.clone()\n",
        "    intersec[:, 0] = torch.max(boxes1[:, 0], boxes2[:, 0])\n",
        "    intersec[:, 1] = torch.max(boxes1[:, 1], boxes2[:, 1])\n",
        "    intersec[:, 2] = torch.min(boxes1[:, 2], boxes2[:, 2])\n",
        "    intersec[:, 3] = torch.min(boxes1[:, 3], boxes2[:, 3])\n",
        "    \n",
        "    def compute_area(boxes):\n",
        "        # in (x1, y1, x2, y2) format\n",
        "        dx = boxes[:, 2] - boxes[:, 0]\n",
        "        dx[dx < 0] = 0\n",
        "        dy = boxes[:, 3] - boxes[:, 1]\n",
        "        dy[dy < 0] = 0\n",
        "        return dx * dy\n",
        "    \n",
        "    a1 = compute_area(boxes1)\n",
        "    a2 = compute_area(boxes2)\n",
        "    ia = compute_area(intersec)\n",
        "    assert((a1 + a2 - ia <= 0).sum() == 0)\n",
        "    \n",
        "    return ia / (a1 + a2 - ia)    \n",
        "\n",
        "def compute_acc(preds, targets, theta=0.75):\n",
        "    IoU = compute_IoU(preds.clone(), targets.clone())\n",
        "    corr = (IoU >= theta).sum()\n",
        "    return corr.item() / preds.size(0)\n",
        "\n",
        "class AverageMeter(object):\n",
        "    def __init__(self):\n",
        "        self.reset()\n",
        "        \n",
        "    def reset(self):\n",
        "        self.val = 0\n",
        "        self.avg = 0\n",
        "        self.sum = 0\n",
        "        self.cnt = 0\n",
        "        \n",
        "    def update(self, val, n=1):\n",
        "        self.val = val\n",
        "        self.sum += val * n\n",
        "        self.cnt += n\n",
        "        self.avg = self.sum / self.cnt\n",
        "        \n",
        "def box_to_mask(box, im_size):\n",
        "    mask = np.zeros(im_size)\n",
        "    co = xywh_to_x1y1x2y2(box)[0].type(torch.int64)\n",
        "    mask[co[0]: co[2], co[1]: co[3]] = 1\n",
        "    return Image.fromarray(np.uint8(mask*255).T)\n",
        "\n",
        "def mask_to_box(mask):\n",
        "    mask = torch.nonzero(mask[0, :, :].T != 0, as_tuple=False)\n",
        "    x1, y1 = torch.min(mask, dim=0).values\n",
        "    x2, y2 = torch.max(mask, dim=0).values\n",
        "    return x1y1x2y2_to_xywh([x1, y1, x2, y2])[0]\n",
        "\n",
        "#### ROI_PROPOSAL_ALGORITHM\n",
        "def extractImgbyRoI(img, Coords):\n",
        "  (x_min, y_min, x_max, y_max) = Coords[0]\n",
        "  result = img[:, y_min:y_max, x_min:x_max]\n",
        "  for i in range(1, len(Coords)):\n",
        "    (x_min, y_min, x_max, y_max) = Coords[i]\n",
        "    result = np.concatenate((result, img[:, y_min:y_max, x_min:x_max]), axis=2)\n",
        "  return np.array(result)\n",
        "\n",
        "def myImgShow(img):\n",
        "  img = img.transpose((1, 2, 0))/255\n",
        "  #img = img.numpy().transpose((1, 2, 0))/255\n",
        "  plt.imshow(img)\n",
        "\n",
        "def constructNeighbourGrid():\n",
        "  size = 10\n",
        "  neighbourGrid = []\n",
        " \n",
        "  for i in range(size):\n",
        "    for j in range(size):\n",
        "      background = np.zeros((10, 10))\n",
        "      #background[i][j] = 1\n",
        "      # Dilation\n",
        "      if i-1 >= 0: background[i-1][j] = 1\n",
        "      if i+1 < size: background[i+1][j] = 1\n",
        "      if j-1 >= 0: background[i][j-1] = 1\n",
        "      if j+1 < size: background[i][j+1] = 1\n",
        "\n",
        "      background = background.flatten()\n",
        "      neighbourGrid.append(background == 1)\n",
        "\n",
        "  return np.array(neighbourGrid)\n",
        "\n",
        "def initCoord(img, size):\n",
        "  _, h, w = img.shape\n",
        "  sub_h, sub_w = math.floor(h/size), math.floor(w/size)\n",
        "  RoIs = np.array([[[j*sub_w, i*sub_h, (j+1)*sub_w-1, (i+1)*sub_h-1] for j in range(size)] for i in range(size)])\n",
        "  RoIs = RoIs.reshape(size*size, 4)\n",
        "  return RoIs\n",
        "    \n",
        "\n",
        "def initRegions(size):\n",
        "  return set([(i) for i in range(size)])\n",
        "\n",
        "\n",
        "def regionsToCoord(Coords, regions):\n",
        "  regions_list = tuple2list(regions)\n",
        "  res = Coords[regions_list[0]].reshape(1, 4)\n",
        "  for i in range(1, len(regions_list)):\n",
        "    res = np.concatenate((res, Coords[regions_list[i]].reshape((1, 4))))\n",
        "  return res\n",
        "\n",
        "\n",
        "def regionsToCoord_test(Coords, regions):\n",
        "  print(regions)\n",
        "  regions_list = tuple2list(regions)\n",
        "  print(regions_list[0])\n",
        "  print(Coords[regions_list[0]].reshape(1, 4))\n",
        "  res = Coords[regions_list[0]].reshape(1, 4)\n",
        "  for i in range(1, len(regions_list)):\n",
        "    res = np.concatenate((res, Coords[regions_list[i]].reshape((1, 4))))\n",
        "  return res\n",
        "\n",
        "\n",
        "def getHist(img):\n",
        "  D, _, _ = img.shape\n",
        "  histogram = []\n",
        "  for channel_idx in range(D):\n",
        "    h, _ = np.histogram(img[channel_idx, :, :], bins=25)\n",
        "    histogram = histogram + list(h)\n",
        "  histogram = np.array(histogram/np.linalg.norm(histogram, 1))\n",
        "  return histogram\n",
        "\n",
        "def sim(region1, region2):\n",
        "  histogram1 = getHist(region1)\n",
        "  histogram2 = getHist(region2)\n",
        "\n",
        "  sim = np.vstack((histogram1, histogram2))\n",
        "  sim = np.amin(sim, 0)\n",
        "  sim = sim.sum()\n",
        "\n",
        "  return sim\n",
        "\n",
        "def findNeighbour(regions, size):\n",
        "  neighbourGrid = np.zeros((size*size, 1))\n",
        "  neighbourGrid[tuple2list(regions)] = 1\n",
        "  neighbourGrid = neighbourGrid.reshape((size, size))\n",
        "  neighbourGrid = ndimage.binary_dilation(neighbourGrid).astype(neighbourGrid.dtype)\n",
        "  neighbourGrid = neighbourGrid.reshape((size*size, 1))\n",
        "  neighbourGrid[tuple2list(regions)] = 0\n",
        "  return np.where(neighbourGrid == 1)[0]\n",
        "\n",
        "def tuple2list(input):\n",
        "  if type(input) == int:\n",
        "    return [input]\n",
        "  res = []\n",
        "  for element in input:\n",
        "    if type(element) == tuple:\n",
        "      res = res + list(element)\n",
        "    else:\n",
        "      res.append(element)\n",
        "  return res\n",
        "\n",
        "def removeEnclosedRegion(regions, newR):\n",
        "  redundance = set()\n",
        "  for t in regions:\n",
        "    if set(t).issubset(newR):\n",
        "      redundance.add(t)\n",
        "\n",
        "  regions.symmetric_difference_update(redundance)\n",
        "  return regions\n",
        "\n",
        "def cropRect(RoIs, regions):\n",
        "  res = RoIs\n",
        "  for region in regions:\n",
        "    coords = regionsToCoord(RoIs, region)\n",
        "\n",
        "    coord_max = np.amax(coords, axis=0)\n",
        "    coord_min = np.amin(coords, axis=0)\n",
        "\n",
        "    vector = [coord_min[0], coord_min[1], coord_max[2], coord_max[3]]\n",
        "    res = np.vstack((res, vector))\n",
        "\n",
        "  return np.array(res)\n",
        "\n",
        "\n"
      ],
      "execution_count": 4,
      "outputs": []
    },
    {
      "cell_type": "code",
      "metadata": {
        "id": "IwP1M4Dh7UZM"
      },
      "source": [
        "def genRoIsperImg(im, size): \n",
        "  RoIs = initCoord(im, size)\n",
        "  regions = initRegions(size*size)\n",
        "\n",
        "  neighbourGrid = constructNeighbourGrid()\n",
        "\n",
        "  simGrid = set()\n",
        "  for i in range(size*size):\n",
        "    for j in range(i, size*size):\n",
        "      if neighbourGrid[i][j]:\n",
        "        img1 = extractImgbyRoI(im, regionsToCoord(RoIs, [i]))\n",
        "        img2 = extractImgbyRoI(im, regionsToCoord(RoIs, [j]))\n",
        "        simGrid.add((i, j, sim(img1, img2)))\n",
        "\n",
        "  regions_merged = set()\n",
        "  current_merged_regions = set()\n",
        "  i = 0\n",
        "  while len(simGrid) > 0:\n",
        "  #for i in range(20):\n",
        "    # print('itr#:', i, \" with size= \", len(simGrid))\n",
        "    i = i+1\n",
        "    region1, region2, _ = max(simGrid, key=lambda x:x[2])\n",
        "    #print(\"region1 = \", region1)\n",
        "    #print(\"region2 = \", region2)\n",
        "    newRegion = set()\n",
        "    newRegion.update(tuple2list(region1))\n",
        "    newRegion.update(tuple2list(region2))\n",
        "    regions_merged.add(tuple(newRegion))\n",
        "    current_merged_regions = removeEnclosedRegion(current_merged_regions, tuple(newRegion))\n",
        "    current_merged_regions.add(tuple(newRegion))\n",
        "    removeList = list(filter(lambda x: x[0] == region1 or x[1] == region1, simGrid))\n",
        "    #print(\"remove one = \", removeList)\n",
        "    c1 = len(removeList)\n",
        "    simGrid.difference_update(removeList)\n",
        "    removeList = list(filter(lambda x: x[0] == region2 or x[1] == region2, simGrid))\n",
        "    #print(\"remove two = \", removeList)\n",
        "    c1 = c1 + len(removeList)\n",
        "    #print(\"no of removal = \", c1)\n",
        "    simGrid.difference_update(removeList)\n",
        "\n",
        "    neighbourRegions = findNeighbour(newRegion, 10)\n",
        "    #print(\"neigbour regions = \", neighbourRegions)\n",
        "    for j in range(len(neighbourRegions)):\n",
        "      neighbourRegion = neighbourRegions[j]\n",
        "      #print(\"==== current neibh = \", neighbourRegion)\n",
        "      counted = False\n",
        "      for region in filter(lambda x: neighbourRegion in x, current_merged_regions):\n",
        "        #print(\"region = \", region)\n",
        "        counted = True\n",
        "        img1 = extractImgbyRoI(im, regionsToCoord(RoIs, newRegion))\n",
        "        img2 = extractImgbyRoI(im, regionsToCoord(RoIs, region))\n",
        "        #print(\"add: \", (tuple(newRegion), region, sim(img1, img2)))\n",
        "        simGrid.add((tuple(newRegion), region, sim(img1, img2)))\n",
        "\n",
        "      if counted:\n",
        "        #print(neighbourRegion, ' is counted')\n",
        "        continue\n",
        "\n",
        "      for region in filter(lambda x:x==neighbourRegion, regions):\n",
        "        #print(\"single region = \", region)\n",
        "        img1 = extractImgbyRoI(im, regionsToCoord(RoIs, newRegion))\n",
        "        img2 = extractImgbyRoI(im, regionsToCoord(RoIs, [region]))\n",
        "        #print(\"add: \", (tuple(newRegion), region, sim(img1, img2)))\n",
        "        simGrid.add((tuple(newRegion), region, sim(img1, img2)))\n",
        "\n",
        "    if len(simGrid) <= 0:\n",
        "      break\n",
        "  \n",
        "  res = cropRect(RoIs, regions_merged)\n",
        "  res = set([tuple(ele) for ele in res])\n",
        "  res = np.array(list(res))\n",
        "  # print(\"finish\")\n",
        "  return res\n",
        "    #print(regions_merged)\n",
        "    #print(len(simGrid))"
      ],
      "execution_count": 5,
      "outputs": []
    },
    {
      "cell_type": "markdown",
      "metadata": {
        "id": "Kfhg8gxbb5_X"
      },
      "source": [
        "# define dataset"
      ]
    },
    {
      "cell_type": "code",
      "metadata": {
        "id": "b0G9yV9Xqw7l"
      },
      "source": [
        "class MyDataset(Dataset):\n",
        "    def __init__(self, datatype='train', transform=None):\n",
        "        with open('data/bbox_'+datatype+'.csv') as f:\n",
        "            id_to_box = dict()\n",
        "            id_to_path = dict()\n",
        "            id_to_turb= dict()\n",
        "            last_name='none'\n",
        "            idx=-1\n",
        "            for line in f.read().splitlines():\n",
        "                filename, wid, hei, turb, *box = line.split(',') # get all variable\n",
        "                if turb =='severe turbulence':\n",
        "                  turb_no=2\n",
        "                else:\n",
        "                  turb_no=1\n",
        "                if filename == 'filename': # skip the title\n",
        "                  continue\n",
        "\n",
        "                if filename==last_name:\n",
        "                  id_to_box[idx].append(list(map(float, box)))\n",
        "                  id_to_turb[idx].append(turb_no)\n",
        "                  \n",
        "                else:\n",
        "                  idx=idx+1\n",
        "                  id_to_path[idx]=filename\n",
        "                  id_to_box[idx]=[list(map(float, box))]\n",
        "                  id_to_turb[idx]=[turb_no]\n",
        "                  last_name=filename\n",
        "\n",
        "            self.imgs = [(os.path.join('data/'+datatype, id_to_path[i]), id_to_box[i],id_to_turb[i])\n",
        "                     for i in range(len(id_to_path))]\n",
        "\n",
        "            #transform data\n",
        "            self.target_transform = transforms.Compose([\n",
        "                transforms.Resize((840, 840)),\n",
        "                transforms.ToTensor()\n",
        "            ])\n",
        "            self.transform = transforms.Compose([\n",
        "                self.target_transform,\n",
        "                transforms.Normalize([0.485, 0.456, 0.406], [0.229, 0.224, 0.225])\n",
        "            ])\n",
        "            if transform is not None:\n",
        "                self.transform = transforms.Compose([\n",
        "                    transform,\n",
        "                    self.transform\n",
        "                ])\n",
        "                self.target_transform = transforms.Compose([\n",
        "                    transform,\n",
        "                    self.target_transform\n",
        "                ])\n",
        "\n",
        "    def prepare_data(self, path):\n",
        "      \n",
        "\n",
        "      self.data = []\n",
        "      img_count = 1\n",
        "      for img in self.imgs:\n",
        "        # if img_count == 5:\n",
        "        #   break\n",
        "        print(\"processing image#: \", img_count)\n",
        "        img_count = img_count+1\n",
        "        path, box, turb = img\n",
        "        im = (np.load(path))/292*255\n",
        "        im=np.transpose(im,(1, 2, 0))\n",
        "        im=np.uint8(im)\n",
        "        boxes = np.array(box, dtype='int32')\n",
        "        seed = np.random.randint(2147483647)\n",
        "        random.seed(seed)\n",
        "        torch.manual_seed(seed)\n",
        "        PIL = transforms.ToPILImage()(im).convert('RGB')#if you want to output 4 dimension data, change to .convert('RGBA'). While you will not able to do transforms.Normalize()\n",
        "        im = self.transform(PIL)\n",
        "\n",
        "        v = genRoIsperImg(im, 10)\n",
        "\n",
        "\n",
        "        proposed_roi_lable = []\n",
        "        for i in v:\n",
        "          IoU_list = []\n",
        "          for gt_box in box:\n",
        "            IoU = compute_IoU(i, gt_box)\n",
        "            IoU_list.append(IoU)\n",
        "          most_likely_gt_box_iou_score = max(IoU_list)\n",
        "          most_likely_gt_index = IoU_list.index(most_likely_gt_box_iou_score)\n",
        "          gt_box_coord = box[most_likely_gt_index]\n",
        "          if most_likely_gt_box_iou_score > 0:\n",
        "            gt_box_class = turb[most_likely_gt_index]\n",
        "          else:\n",
        "            gt_box_class = 0\n",
        "          \n",
        "          gt_box_coord_xywh = np.array([gt_box_coord[0],gt_box_coord[1],gt_box_coord[3]-gt_box_coord[1],gt_box_coord[2]-gt_box_coord[0]])\n",
        "\n",
        "\n",
        "\n",
        "          roi_dict = {\n",
        "              \"gt_box_iou_score\": most_likely_gt_box_iou_score,\n",
        "              \"gt_index\": most_likely_gt_index,\n",
        "              \"gt_box_coord\": gt_box_coord,\n",
        "              \"gt_box_coord_xywh\": gt_box_coord_xywh,\n",
        "              \"gt_box_class\": gt_box_class\n",
        "          }\n",
        "\n",
        "          proposed_roi_lable.append([i,roi_dict])\n",
        "\n",
        "        self.data.append([im, box, turb, proposed_roi_lable])\n",
        "\n",
        "          # print(most_likely_gt_box_iou_score, most_likely_gt_index, gt_box_coord, gt_box_class)\n",
        "\n",
        "\n",
        "\n",
        "\n",
        "    def __getitem__(self, index):\n",
        "      return self.data[index]\n",
        "\n",
        "    def __len__(self):\n",
        "        return len(self.imgs)"
      ],
      "execution_count": 7,
      "outputs": []
    },
    {
      "cell_type": "code",
      "metadata": {
        "id": "Bv3EYgjbhp1M"
      },
      "source": [
        "train=MyDataset(datatype='train', transform=None)\n",
        "train.prepare_data()\n",
        "torch.save(train,'train.pt')"
      ],
      "execution_count": 9,
      "outputs": []
    },
    {
      "cell_type": "code",
      "metadata": {
        "id": "bRQ-NF9a6Jw2"
      },
      "source": [
        "train=MyDataset(datatype='val', transform=None)\n",
        "train.prepare_data()\n",
        "torch.save(train,'val.pt')"
      ],
      "execution_count": null,
      "outputs": []
    },
    {
      "cell_type": "code",
      "metadata": {
        "id": "DLKJztNr6L24"
      },
      "source": [
        "train=MyDataset(datatype='test', transform=None)\n",
        "train.prepare_data()\n",
        "torch.save(train,'test.pt')"
      ],
      "execution_count": null,
      "outputs": []
    },
    {
      "cell_type": "code",
      "metadata": {
        "id": "ta2wEIP231SA"
      },
      "source": [
        "# torch.save(train,'train.pt')\n",
        "# x = torch.load('train.pt')"
      ],
      "execution_count": 75,
      "outputs": []
    },
    {
      "cell_type": "code",
      "metadata": {
        "id": "LL4M4GSOups1"
      },
      "source": [
        "train_dataloader = torch.utils.data.DataLoader(train,batch_size=2,shuffle=False,collate_fn=collate_fn1)"
      ],
      "execution_count": 12,
      "outputs": []
    },
    {
      "cell_type": "code",
      "metadata": {
        "colab": {
          "base_uri": "https://localhost:8080/"
        },
        "id": "X5Er2AwJsOxb",
        "outputId": "9ca8a3ed-b7a7-4a3b-d2d4-0e2314f132d2"
      },
      "source": [
        "x = torch.ones([5,4])\n",
        "y = torch.zeros([5,4])\n",
        "z = torch.cat([x,y],1)\n",
        "print(z)"
      ],
      "execution_count": 37,
      "outputs": [
        {
          "output_type": "stream",
          "text": [
            "tensor([[1., 1., 1., 1., 0., 0., 0., 0.],\n",
            "        [1., 1., 1., 1., 0., 0., 0., 0.],\n",
            "        [1., 1., 1., 1., 0., 0., 0., 0.],\n",
            "        [1., 1., 1., 1., 0., 0., 0., 0.],\n",
            "        [1., 1., 1., 1., 0., 0., 0., 0.]])\n"
          ],
          "name": "stdout"
        }
      ]
    },
    {
      "cell_type": "markdown",
      "metadata": {
        "id": "Re2HBvmU5VBe"
      },
      "source": [
        "## Training preparation"
      ]
    },
    {
      "cell_type": "code",
      "metadata": {
        "id": "cVuhJ-N9rmTO"
      },
      "source": [
        "def _smooth_l1_loss(x, t, in_weight, sigma):\n",
        "    sigma2 = sigma ** 2\n",
        "    diff = in_weight * (x - t)\n",
        "    abs_diff = diff.abs()\n",
        "    flag = (abs_diff.data < (1. / sigma2)).float()\n",
        "    y = (flag * (sigma2 / 2.) * (diff ** 2) +\n",
        "         (1 - flag) * (abs_diff - 0.5 / sigma2))\n",
        "    return y.sum()"
      ],
      "execution_count": 31,
      "outputs": []
    },
    {
      "cell_type": "code",
      "metadata": {
        "id": "s4R31_QeEIen"
      },
      "source": [
        "def fast_rcnn_loc_loss(pred_loc, gt_loc, gt_label, sigma):\n",
        "    in_weight = torch.zeros(gt_loc.shape).cuda()\n",
        "    # Localization loss is calculated only for positive rois.\n",
        "    # NOTE:  unlike origin implementation, \n",
        "    # we don't need inside_weight and outside_weight, they can calculate by gt_label\n",
        "    in_weight[(gt_label > 0).view(-1, 1).expand_as(in_weight).cuda()] = 1\n",
        "    loc_loss = _smooth_l1_loss(pred_loc, gt_loc, in_weight.detach(), sigma)\n",
        "    # Normalize by total number of negtive and positive rois.\n",
        "    loc_loss /= ((gt_label >= 0).sum().float()) # ignore gt_label==-1 for rpn_loss\n",
        "    return loc_loss"
      ],
      "execution_count": 32,
      "outputs": []
    },
    {
      "cell_type": "code",
      "metadata": {
        "colab": {
          "base_uri": "https://localhost:8080/",
          "height": 235
        },
        "id": "aRKs6d03u-jO",
        "outputId": "33938310-824a-4326-9dd4-424931a61f8f"
      },
      "source": [
        "for data in train_dataloader:\n",
        "  imgs, boxes, turbs, rois = data\n",
        "\n",
        "  imgs_tensor = torch.zeros([len(imgs),3,840,840])\n",
        "\n",
        "\n",
        "\n",
        "  for i in range(len(imgs)):\n",
        "    imgs_tensor[i] = imgs[i]\n",
        "\n",
        "  roi_index_list = [[1,2,3,4,5,6,7,8,9,10], [11,12,13,14,22,23,88,87,42,44]]\n",
        "\n",
        "\n",
        "  gt_roi_labels = torch.zeros([20]) #20 = batch*rois_per_image\n",
        "  gt_roi_coord = torch.zeros([20,8])\n",
        "\n",
        "  roi_list = torch.zeros([20,5], dtype=torch.float32) \n",
        "  for i in range(len(roi_index_list)):\n",
        "    # roi_per_image = torch.zeros([10,4], dtype=torch.float32) \n",
        "    for j in range(len(roi_index_list[i])):\n",
        "      roi_list[i*10+j,:] = torch.tensor(np.insert(rois[i][roi_index_list[i][j]][0], 0, i))\n",
        "      gt_roi_labels[i*10+j] = torch.tensor(rois[i][roi_index_list[i][j]][1][\"gt_box_class\"])\n",
        "\n",
        "      gt_coord_xy = rois[i][roi_index_list[i][j]][1][\"gt_box_coord\"]\n",
        "      gt_coord =  torch.tensor([gt_coord_xy[0],gt_coord_xy[1],gt_coord_xy[3]-gt_coord_xy[1],gt_coord_xy[2]])\n",
        "      gt_roi_coord[i*10+j] = torch.cat([gt_coord,gt_coord],1)\n",
        "    # roi_list.append(roi_per_image)\n",
        "  \n",
        "  # print(roi_list\n",
        "  # print(gt_roi_coord)\n",
        "\n",
        "  imgs_tensor = imgs_tensor.cuda()\n",
        "  roi_list = roi_list.cuda()\n",
        "  gt_roi_labels = gt_roi_labels.cuda()\n",
        "  gt_roi_coord = gt_roi_coord.cuda()\n",
        "\n",
        "\n",
        "  model = Fast_R_cnn(roi_size=13,scaling_factor=float(51/840))\n",
        "  model.cuda()\n",
        "  model.train()\n",
        "  result_class_score, result_coord = model(images_data = imgs_tensor, roi_list= roi_list)\n",
        "\n",
        "  print(result_coord.shape)\n",
        "\n",
        "  classfication_loss = nn.CrossEntropyLoss()(result_class_score, gt_roi_labels.long())\n",
        "  loc_loss = fast_rcnn_loc_loss(result_coord, gt_roi_coord, gt_roi_labels, 1)\n",
        "  print(loc_loss)\n",
        "  # print(result_class[0])\n",
        "  print(result_coord[0])\n",
        "\n",
        "\n",
        "\n",
        "  break"
      ],
      "execution_count": 38,
      "outputs": [
        {
          "output_type": "error",
          "ename": "IndexError",
          "evalue": "ignored",
          "traceback": [
            "\u001b[0;31m---------------------------------------------------------------------------\u001b[0m",
            "\u001b[0;31mIndexError\u001b[0m                                Traceback (most recent call last)",
            "\u001b[0;32m<ipython-input-38-5cd0a2a3545b>\u001b[0m in \u001b[0;36m<module>\u001b[0;34m()\u001b[0m\n\u001b[1;32m     22\u001b[0m       \u001b[0mgt_roi_labels\u001b[0m\u001b[0;34m[\u001b[0m\u001b[0mi\u001b[0m\u001b[0;34m*\u001b[0m\u001b[0;36m10\u001b[0m\u001b[0;34m+\u001b[0m\u001b[0mj\u001b[0m\u001b[0;34m]\u001b[0m \u001b[0;34m=\u001b[0m \u001b[0mtorch\u001b[0m\u001b[0;34m.\u001b[0m\u001b[0mtensor\u001b[0m\u001b[0;34m(\u001b[0m\u001b[0mrois\u001b[0m\u001b[0;34m[\u001b[0m\u001b[0mi\u001b[0m\u001b[0;34m]\u001b[0m\u001b[0;34m[\u001b[0m\u001b[0mroi_index_list\u001b[0m\u001b[0;34m[\u001b[0m\u001b[0mi\u001b[0m\u001b[0;34m]\u001b[0m\u001b[0;34m[\u001b[0m\u001b[0mj\u001b[0m\u001b[0;34m]\u001b[0m\u001b[0;34m]\u001b[0m\u001b[0;34m[\u001b[0m\u001b[0;36m1\u001b[0m\u001b[0;34m]\u001b[0m\u001b[0;34m[\u001b[0m\u001b[0;34m\"gt_box_class\"\u001b[0m\u001b[0;34m]\u001b[0m\u001b[0;34m)\u001b[0m\u001b[0;34m\u001b[0m\u001b[0;34m\u001b[0m\u001b[0m\n\u001b[1;32m     23\u001b[0m       \u001b[0mgt_coord\u001b[0m \u001b[0;34m=\u001b[0m  \u001b[0mtorch\u001b[0m\u001b[0;34m.\u001b[0m\u001b[0mtensor\u001b[0m\u001b[0;34m(\u001b[0m\u001b[0mrois\u001b[0m\u001b[0;34m[\u001b[0m\u001b[0mi\u001b[0m\u001b[0;34m]\u001b[0m\u001b[0;34m[\u001b[0m\u001b[0mroi_index_list\u001b[0m\u001b[0;34m[\u001b[0m\u001b[0mi\u001b[0m\u001b[0;34m]\u001b[0m\u001b[0;34m[\u001b[0m\u001b[0mj\u001b[0m\u001b[0;34m]\u001b[0m\u001b[0;34m]\u001b[0m\u001b[0;34m[\u001b[0m\u001b[0;36m1\u001b[0m\u001b[0;34m]\u001b[0m\u001b[0;34m[\u001b[0m\u001b[0;34m\"gt_box_coord\"\u001b[0m\u001b[0;34m]\u001b[0m\u001b[0;34m)\u001b[0m\u001b[0;34m\u001b[0m\u001b[0;34m\u001b[0m\u001b[0m\n\u001b[0;32m---> 24\u001b[0;31m       \u001b[0mgt_roi_coord\u001b[0m\u001b[0;34m[\u001b[0m\u001b[0mi\u001b[0m\u001b[0;34m*\u001b[0m\u001b[0;36m10\u001b[0m\u001b[0;34m+\u001b[0m\u001b[0mj\u001b[0m\u001b[0;34m]\u001b[0m \u001b[0;34m=\u001b[0m \u001b[0mtorch\u001b[0m\u001b[0;34m.\u001b[0m\u001b[0mcat\u001b[0m\u001b[0;34m(\u001b[0m\u001b[0;34m[\u001b[0m\u001b[0mgt_coord\u001b[0m\u001b[0;34m,\u001b[0m\u001b[0mgt_coord\u001b[0m\u001b[0;34m]\u001b[0m\u001b[0;34m,\u001b[0m\u001b[0;36m1\u001b[0m\u001b[0;34m)\u001b[0m\u001b[0;34m\u001b[0m\u001b[0;34m\u001b[0m\u001b[0m\n\u001b[0m\u001b[1;32m     25\u001b[0m     \u001b[0;31m# roi_list.append(roi_per_image)\u001b[0m\u001b[0;34m\u001b[0m\u001b[0;34m\u001b[0m\u001b[0;34m\u001b[0m\u001b[0m\n\u001b[1;32m     26\u001b[0m \u001b[0;34m\u001b[0m\u001b[0m\n",
            "\u001b[0;31mIndexError\u001b[0m: Dimension out of range (expected to be in range of [-1, 0], but got 1)"
          ]
        }
      ]
    },
    {
      "cell_type": "code",
      "metadata": {
        "id": "O9TFcYVU4Fe4"
      },
      "source": [
        "return roi_List, roi_index_list \n",
        "\n",
        "roi_index_list = [[0,3,4],[6,7,8]]"
      ],
      "execution_count": null,
      "outputs": []
    },
    {
      "cell_type": "markdown",
      "metadata": {
        "id": "7zjFzgjBCgMk"
      },
      "source": [
        "## dataloader"
      ]
    },
    {
      "cell_type": "code",
      "metadata": {
        "id": "j6mm3CLpq5Fb"
      },
      "source": [
        "train=MyDataset(datatype='train', transform=None)\n",
        "test=MyDataset(datatype='test', transform=None)\n",
        "val=MyDataset(datatype='val', transform=None)\n",
        "datasets={'train':train,'test':test,'val':val}\n",
        "dataloaders = {k: torch.utils.data.DataLoader(\n",
        "                v, batch_size=32, shuffle=(k=='train'),\n",
        "                num_workers=0,collate_fn=collate_fn1,pin_memory=True) for k, v in datasets.items()}"
      ],
      "execution_count": null,
      "outputs": []
    },
    {
      "cell_type": "code",
      "metadata": {
        "colab": {
          "base_uri": "https://localhost:8080/"
        },
        "id": "xEitXYvszaTq",
        "outputId": "6f7bf437-f0d1-4741-f0c8-530472b57d66"
      },
      "source": [
        "datasets"
      ],
      "execution_count": null,
      "outputs": [
        {
          "output_type": "execute_result",
          "data": {
            "text/plain": [
              "{'test': <__main__.MyDataset at 0x7fd2825ae198>,\n",
              " 'train': <__main__.MyDataset at 0x7fd2825ff400>,\n",
              " 'val': <__main__.MyDataset at 0x7fd2825a7198>}"
            ]
          },
          "metadata": {
            "tags": []
          },
          "execution_count": 17
        }
      ]
    },
    {
      "cell_type": "markdown",
      "metadata": {
        "id": "rnFpGlKKCovB"
      },
      "source": [
        "##Data visulize"
      ]
    },
    {
      "cell_type": "code",
      "metadata": {
        "id": "bXzg-KA7G2xa"
      },
      "source": [
        "def imshow(img, gt_box, turb_type,pred_box=None):\n",
        "    plt.imshow(img)\n",
        "    \n",
        "    def draw_box(box, turb_type):\n",
        "        x, y, w, h = box\n",
        "        if x == 0:\n",
        "            x = 1\n",
        "        if y == 0:\n",
        "            y = 1\n",
        "        if turb_type==2:\n",
        "          color='red'\n",
        "        else:\n",
        "          color='green'\n",
        "        plt.gca().add_patch(\n",
        "            plt.Rectangle((x, y), w-x, h-y,\n",
        "                          fill=False, edgecolor=color, linewidth=2, alpha=0.5)\n",
        "        )\n",
        "    for i in range(len(box)):\n",
        "      draw_box(box[i],turb_type[i])\n",
        "    if pred_box is not None:\n",
        "        draw_box(pred_box, 'blue')\n",
        "    plt.plot()"
      ],
      "execution_count": 149,
      "outputs": []
    },
    {
      "cell_type": "code",
      "metadata": {
        "colab": {
          "base_uri": "https://localhost:8080/",
          "height": 269
        },
        "id": "eIA-o0-hCsw4",
        "outputId": "d9020164-256c-499d-928d-ec34a2285349"
      },
      "source": [
        "#transform1=transforms.Compose([transforms.ColorJitter(hue=0.1)])\n",
        "dataset=MyDataset(datatype='train',transform=None)\n",
        "im, box, turb = dataset[0]\n",
        "\n",
        "inp = im.numpy().transpose((1, 2, 0))\n",
        "mean = np.array([0.485, 0.456, 0.406])\n",
        "std = np.array([0.229, 0.224, 0.225])\n",
        "inp = std * inp + mean\n",
        "imshow(inp, box,turb)\n"
      ],
      "execution_count": 150,
      "outputs": [
        {
          "output_type": "display_data",
          "data": {
            "image/png": "[encoded data removed]",
            "text/plain": [
              "<Figure size 432x288 with 1 Axes>"
            ]
          },
          "metadata": {
            "tags": [],
            "needs_background": "light"
          }
        }
      ]
    },
    {
      "cell_type": "code",
      "metadata": {
        "colab": {
          "base_uri": "https://localhost:8080/"
        },
        "id": "XofZdUlyianM",
        "outputId": "f4e23e50-5dea-4fc3-f7c1-3fc4ad84b8a8"
      },
      "source": [
        "box"
      ],
      "execution_count": 151,
      "outputs": [
        {
          "output_type": "execute_result",
          "data": {
            "text/plain": [
              "array([[298., 315., 833., 443.],\n",
              "       [ 83., 379., 315., 463.],\n",
              "       [ 59., 546., 267., 638.],\n",
              "       [519., 148., 682., 210.],\n",
              "       [392., 134., 616., 199.],\n",
              "       [ 54., 382., 346., 545.],\n",
              "       [ 24., 239., 130., 295.],\n",
              "       [475., 515., 585., 591.]], dtype=float32)"
            ]
          },
          "metadata": {
            "tags": []
          },
          "execution_count": 151
        }
      ]
    },
    {
      "cell_type": "code",
      "metadata": {
        "colab": {
          "base_uri": "https://localhost:8080/"
        },
        "id": "w0razgMZscaY",
        "outputId": "48cf29c3-83f8-401a-f6a3-3134bd8817b9"
      },
      "source": [
        "turb"
      ],
      "execution_count": 152,
      "outputs": [
        {
          "output_type": "execute_result",
          "data": {
            "text/plain": [
              "[2, 2, 1, 1, 1, 2, 1, 1]"
            ]
          },
          "metadata": {
            "tags": []
          },
          "execution_count": 152
        }
      ]
    },
    {
      "cell_type": "markdown",
      "metadata": {
        "id": "MZ5OTQ3a1det"
      },
      "source": [
        "## Fast R-Cnn model"
      ]
    },
    {
      "cell_type": "code",
      "metadata": {
        "id": "DSMDGHcfRynf"
      },
      "source": [
        "import torchvision.models as models"
      ],
      "execution_count": null,
      "outputs": []
    },
    {
      "cell_type": "code",
      "metadata": {
        "colab": {
          "base_uri": "https://localhost:8080/"
        },
        "id": "-WaSls2qlQTr",
        "outputId": "6257b2fe-2094-40b9-b7c3-faac32c17797"
      },
      "source": [
        "51/840 #scaling factor "
      ],
      "execution_count": null,
      "outputs": [
        {
          "output_type": "execute_result",
          "data": {
            "text/plain": [
              "0.060714285714285714"
            ]
          },
          "metadata": {
            "tags": []
          },
          "execution_count": 119
        }
      ]
    },
    {
      "cell_type": "code",
      "metadata": {
        "id": "Ya437E9FWgmI"
      },
      "source": [
        "  def propose_roi():\n",
        "    #assume 32 batch size\n",
        "    list_roi = []\n",
        "    for i in range(32):\n",
        "      dummy = torch.zeros([10,4], dtype=torch.float32)\n",
        "      for j in range(10):\n",
        "        x1 = j*84\n",
        "        y1 = j*84\n",
        "        x2 = (j+1)*84\n",
        "        y2 = (j+1)*84\n",
        "        dummy[j][0] = x1\n",
        "        dummy[j][1] = y1\n",
        "        dummy[j][2] = x2\n",
        "        dummy[j][3] = x2\n",
        "      list_roi.append(dummy)\n",
        "    return list_roi"
      ],
      "execution_count": null,
      "outputs": []
    },
    {
      "cell_type": "code",
      "metadata": {
        "id": "8knoF4ViXQS9"
      },
      "source": [
        "class Fast_R_cnn(nn.Module):\n",
        "  def __init__(self, roi_size, scaling_factor):\n",
        "    super(Fast_R_cnn, self).__init__()\n",
        "    self.roi_size = roi_size\n",
        "    self.scaling_factor = scaling_factor\n",
        "    alexnet = models.alexnet(pretrained=True)\n",
        "    #structure of alexnet could be modified if performance is bad\n",
        "    self.alexnet = nn.Sequential(*list(alexnet.children())[:-2])\n",
        "    self.alexnet[0][12]=nn.Identity() \n",
        "\n",
        "    self.ROI_pooling_layer = torchvision.ops.roi_pool\n",
        "\n",
        "\n",
        "\n",
        "    ## FCs to produced ROI feature vectors\n",
        "    self.ROI_head = nn.Sequential(\n",
        "      nn.Linear(in_features=43264, out_features=21632, bias=True),\n",
        "      nn.ReLU(inplace=True),\n",
        "      nn.Dropout(p=0.5, inplace=False),\n",
        "      nn.Linear(in_features=21632, out_features=10816, bias=True),\n",
        "      nn.ReLU(inplace=True),\n",
        "      # nn.Dropout(p=0.5, inplace=False),\n",
        "      nn.Linear(in_features=10816, out_features=3000, bias=True)\n",
        "      # nn.ReLU(inplace=True),\n",
        "      # nn.Dropout(p=0.5, inplace=False),\n",
        "      # nn.Linear(in_features=5000, out_features=5000, bias=True),\n",
        "      # nn.ReLU(inplace=True),\n",
        "      # nn.Linear(in_features=5000, out_features=3000, bias=True)\n",
        "    )\n",
        "\n",
        "    n_class = 2\n",
        "    ## FCs for softmax \n",
        "    self.classficiation_label = nn.Sequential(\n",
        "      nn.Linear(3000, 3), #Because 3 classes\n",
        "      nn.Softmax()\n",
        "    )\n",
        "\n",
        "    ## FCs for bbox regressor \n",
        "    self.fc_before_regressor = nn.Linear(3000, 2 * 4)\n",
        "    ## input using pool5 fectures and output for weigths for the bounding box calculation\n",
        "    self.regressor = nn.Linear(3000, 2 * 4)\n",
        "    \n",
        "\n",
        "\n",
        "\n",
        "\n",
        "\n",
        "  def forward(self, images_data, roi_list):\n",
        "\n",
        "    conv_feature_map = self.alexnet(images_data)\n",
        "    # print(conv_feature_map.shape)\n",
        "\n",
        "    proposed_roi = roi_list\n",
        "\n",
        "    roi_pooling_result = self.ROI_pooling_layer(input = conv_feature_map, boxes= proposed_roi, output_size = self.roi_size, spatial_scale= self.scaling_factor)\n",
        "\n",
        "    print(roi_pooling_result.shape)\n",
        "\n",
        "\n",
        "    roi = torch.reshape(roi_pooling_result, (2*10,43264))\n",
        "\n",
        "\n",
        "    # #ROI feature vector size (2*#roi,3000)\n",
        "    ROI_feature = self.ROI_head(roi)\n",
        "\n",
        "    # # Classification label \n",
        "    result_labels_probabilities = self.classficiation_label(ROI_feature)\n",
        "    print(result_labels_probabilities.shape)\n",
        "    print(result_labels_probabilities[0])\n",
        "\n",
        "    # # BBOX Regresor\n",
        "    # # Let bk = (bkx,bky,bkh,bkw) be the output for class k (k = 1,2) from the FC layer just before the bbox regressor in Figure 2\n",
        "    bk = self.fc_before_regressor(ROI_feature)\n",
        "    \n",
        "\n",
        "    d_bk = self.regressor(ROI_feature)\n",
        "    \n",
        "    print(bk.shape)\n",
        "    print(d_bk.shape)\n",
        "\n",
        "\n",
        "    # (x,y,w,h,x,y,w,h) first 4 is coordinate for class 1, second 4 is coordinate for class 2\n",
        "    bk_wh_1 = bk[:,2:4] \n",
        "    bk_wh_2 = bk[:,6:8]\n",
        "\n",
        "    # bk_w = torch.cat([bk_w_1,bk_w_2], 1)\n",
        "    # bk_h = torch.cat([bk_h_1,bk_h_2], 1)\n",
        "    bk_w_h =  torch.cat([bk_wh_1,bk_wh_1,bk_wh_2,bk_wh_2], 1)\n",
        "\n",
        "    b_hat = bk_w_h*d_bk\n",
        "    # print(b_hat.shape)\n",
        "\n",
        "    b_hat[:,0:2] = b_hat[:,0:2] + bk[:,0:2]\n",
        "    b_hat[:,4:6] = b_hat[:,4:6] + bk[:,4:6]\n",
        "\n",
        "    \n",
        "    # result_labels_probabilities = SIZE(BATCH_SIZE*ROI_PER_IMAGE, 3) B_HAT = SIZE(BATCH_SIZE*ROI_PER_IMAGE, 2*4)\n",
        "    return result_labels_probabilities, b_hat\n",
        "\n",
        "\n",
        "\n",
        "  \n"
      ],
      "execution_count": 30,
      "outputs": []
    },
    {
      "cell_type": "code",
      "metadata": {
        "id": "wBtAFg9WYMVf"
      },
      "source": [
        ""
      ],
      "execution_count": null,
      "outputs": []
    },
    {
      "cell_type": "markdown",
      "metadata": {
        "id": "RM0cEx2-6qhz"
      },
      "source": [
        "## Labeling ROI for each image"
      ]
    },
    {
      "cell_type": "code",
      "metadata": {
        "id": "KEy0ZGMR6veO"
      },
      "source": [
        ""
      ],
      "execution_count": null,
      "outputs": []
    },
    {
      "cell_type": "markdown",
      "metadata": {
        "id": "bU9NT4AoG2n7"
      },
      "source": [
        "## Training "
      ]
    },
    {
      "cell_type": "code",
      "metadata": {
        "id": "QM1mvSF2CeHv"
      },
      "source": [
        "def fast_rcnn_loc_loss(pred_loc, gt_loc, gt_label, sigma):\n",
        "    in_weight = t.zeros(gt_loc.shape).cuda()\n",
        "    # Localization loss is calculated only for positive rois.\n",
        "    # NOTE:  unlike origin implementation, \n",
        "    # we don't need inside_weight and outside_weight, they can calculate by gt_label\n",
        "    in_weight[(gt_label > 0).view(-1, 1).expand_as(in_weight).cuda()] = 1\n",
        "    loc_loss = _smooth_l1_loss(pred_loc, gt_loc, in_weight.detach(), sigma)\n",
        "    # Normalize by total number of negtive and positive rois.\n",
        "    loc_loss /= ((gt_label >= 0).sum().float()) # ignore gt_label==-1 for rpn_loss\n",
        "    return loc_loss"
      ],
      "execution_count": null,
      "outputs": []
    },
    {
      "cell_type": "code",
      "metadata": {
        "id": "cdbB8p0lA_bB"
      },
      "source": [
        "loss_crossentropy = nn.CrossEntropyLoss()\n",
        "loss_l1_loss = nn.SmoothL1Loss()\n",
        "\n"
      ],
      "execution_count": null,
      "outputs": []
    },
    {
      "cell_type": "code",
      "metadata": {
        "colab": {
          "base_uri": "https://localhost:8080/"
        },
        "id": "TlDms7TuG2W6",
        "outputId": "52bde3a6-cb1b-40c0-d561-ae01a94beec0"
      },
      "source": [
        "for images_data in enumerate(dataloaders['train']):\n",
        "  x, y = images_data\n",
        "  imgs, boxes, turbs = y\n",
        "\n",
        "  imgs_tensor = torch.zeros([len(imgs),3,840,840])\n",
        "\n",
        "\n",
        "\n",
        "  for i in range(len(imgs)):\n",
        "    imgs_tensor[i] = imgs[i]\n",
        "\n",
        "  roi_list = propose_roi() #dummy function\n",
        "\n",
        "\n",
        "  model = Fast_R_cnn(roi_size=13,scaling_factor=float(51/840))\n",
        "  model.train()\n",
        "  result = model(imgs_tensor, roi_list)\n",
        "\n",
        "  \n",
        "\n",
        "\n",
        "  # imgs = np.array(imgs_list)\n",
        "  # imgs = torch.tensor(imgs)\n",
        "  # print(x)\n",
        "  # print(type(y))\n",
        "  # print(imgs_tensor.shape)\n",
        "  # print(boxes[31])\n",
        "  # print(turbs[31])\n",
        "  break\n",
        "  "
      ],
      "execution_count": null,
      "outputs": [
        {
          "output_type": "stream",
          "text": [
            "torch.Size([320, 256, 13, 13])\n",
            "torch.Size([320, 3])\n",
            "tensor([0.3341, 0.3321, 0.3337], grad_fn=<SelectBackward>)\n",
            "torch.Size([320, 8])\n",
            "torch.Size([320, 8])\n",
            "torch.Size([320, 8])\n"
          ],
          "name": "stdout"
        },
        {
          "output_type": "stream",
          "text": [
            "/usr/local/lib/python3.6/dist-packages/torch/nn/modules/container.py:117: UserWarning: Implicit dimension choice for softmax has been deprecated. Change the call to include dim=X as an argument.\n",
            "  input = module(input)\n"
          ],
          "name": "stderr"
        }
      ]
    },
    {
      "cell_type": "markdown",
      "metadata": {
        "id": "JfdZDoBIWdZl"
      },
      "source": [
        "##per image proposed ROI "
      ]
    },
    {
      "cell_type": "code",
      "metadata": {
        "id": "TpNqyO_JWgf9"
      },
      "source": [
        "def extractImgbyRoI(img, Coords):\n",
        "  (x_min, y_min, x_max, y_max) = Coords[0]\n",
        "  result = img[:, y_min:y_max, x_min:x_max]\n",
        "  for i in range(1, len(Coords)):\n",
        "    (x_min, y_min, x_max, y_max) = Coords[i]\n",
        "    result = np.concatenate((result, img[:, y_min:y_max, x_min:x_max]), axis=2)\n",
        "  return np.array(result)"
      ],
      "execution_count": null,
      "outputs": []
    },
    {
      "cell_type": "code",
      "metadata": {
        "id": "9gvfdLvEWj0F"
      },
      "source": [
        "def myImgShow(img):\n",
        "  img = img.transpose((1, 2, 0))/255\n",
        "  #img = img.numpy().transpose((1, 2, 0))/255\n",
        "  plt.imshow(img)"
      ],
      "execution_count": null,
      "outputs": []
    },
    {
      "cell_type": "code",
      "metadata": {
        "id": "3CDZb2jYWmN_"
      },
      "source": [
        "def constructNeighbourGrid():\n",
        "  size = 10\n",
        "  neighbourGrid = []\n",
        " \n",
        "  for i in range(size):\n",
        "    for j in range(size):\n",
        "      background = np.zeros((10, 10))\n",
        "      #background[i][j] = 1\n",
        "      # Dilation\n",
        "      if i-1 >= 0: background[i-1][j] = 1\n",
        "      if i+1 < size: background[i+1][j] = 1\n",
        "      if j-1 >= 0: background[i][j-1] = 1\n",
        "      if j+1 < size: background[i][j+1] = 1\n",
        "\n",
        "      background = background.flatten()\n",
        "      neighbourGrid.append(background == 1)\n",
        "\n",
        "  return np.array(neighbourGrid)"
      ],
      "execution_count": null,
      "outputs": []
    },
    {
      "cell_type": "code",
      "metadata": {
        "id": "4wltqQ64WoJy"
      },
      "source": [
        "def initCoord(img, size):\n",
        "  _, h, w = img.shape\n",
        "  sub_h, sub_w = math.floor(h/size), math.floor(w/size)\n",
        "  RoIs = np.array([[[j*sub_w, i*sub_h, (j+1)*sub_w-1, (i+1)*sub_h-1] for j in range(size)] for i in range(size)])\n",
        "  RoIs = RoIs.reshape(size*size, 4)\n",
        "  return RoIs"
      ],
      "execution_count": null,
      "outputs": []
    },
    {
      "cell_type": "code",
      "metadata": {
        "id": "jHNnm2cOWqPh"
      },
      "source": [
        "def initRegions(size):\n",
        "  return set([(i) for i in range(size)])"
      ],
      "execution_count": null,
      "outputs": []
    },
    {
      "cell_type": "code",
      "metadata": {
        "id": "RwENbKiDXloa"
      },
      "source": [
        "def regionsToCoord(Coords, regions):\n",
        "  regions_list = tuple2list(regions)\n",
        "  res = Coords[regions_list[0]].reshape(1, 4)\n",
        "  for i in range(1, len(regions_list)):\n",
        "    res = np.concatenate((res, Coords[regions_list[i]].reshape((1, 4))))\n",
        "  return res"
      ],
      "execution_count": null,
      "outputs": []
    },
    {
      "cell_type": "code",
      "metadata": {
        "id": "27CFNoWdWst_"
      },
      "source": [
        "def regionsToCoord_test(Coords, regions):\n",
        "  print(regions)\n",
        "  regions_list = tuple2list(regions)\n",
        "  print(regions_list[0])\n",
        "  print(Coords[regions_list[0]].reshape(1, 4))\n",
        "  res = Coords[regions_list[0]].reshape(1, 4)\n",
        "  for i in range(1, len(regions_list)):\n",
        "    res = np.concatenate((res, Coords[regions_list[i]].reshape((1, 4))))\n",
        "  return res"
      ],
      "execution_count": null,
      "outputs": []
    },
    {
      "cell_type": "code",
      "metadata": {
        "id": "pKAO05zsWuuF"
      },
      "source": [
        "def getHist(img):\n",
        "  D, _, _ = img.shape\n",
        "  histogram = []\n",
        "  for channel_idx in range(D):\n",
        "    h, _ = np.histogram(img[channel_idx, :, :], bins=25)\n",
        "    histogram = histogram + list(h)\n",
        "  histogram = np.array(histogram/np.linalg.norm(histogram, 1))\n",
        "  return histogram"
      ],
      "execution_count": null,
      "outputs": []
    },
    {
      "cell_type": "code",
      "metadata": {
        "id": "a7-_TR0BWw3T"
      },
      "source": [
        "def sim(region1, region2):\n",
        "  histogram1 = getHist(region1)\n",
        "  histogram2 = getHist(region2)\n",
        "\n",
        "  sim = np.vstack((histogram1, histogram2))\n",
        "  sim = np.amin(sim, 0)\n",
        "  sim = sim.sum()\n",
        "\n",
        "  return sim"
      ],
      "execution_count": null,
      "outputs": []
    },
    {
      "cell_type": "code",
      "metadata": {
        "id": "sgAvzIkEW0eG"
      },
      "source": [
        "def findNeighbour(regions, size):\n",
        "  neighbourGrid = np.zeros((size*size, 1))\n",
        "  neighbourGrid[tuple2list(regions)] = 1\n",
        "  neighbourGrid = neighbourGrid.reshape((size, size))\n",
        "  neighbourGrid = ndimage.binary_dilation(neighbourGrid).astype(neighbourGrid.dtype)\n",
        "  neighbourGrid = neighbourGrid.reshape((size*size, 1))\n",
        "  neighbourGrid[tuple2list(regions)] = 0\n",
        "  return np.where(neighbourGrid == 1)[0]"
      ],
      "execution_count": null,
      "outputs": []
    },
    {
      "cell_type": "code",
      "metadata": {
        "id": "f_2qvIM4W1Lc"
      },
      "source": [
        "def tuple2list(input):\n",
        "  if type(input) == int:\n",
        "    return [input]\n",
        "  res = []\n",
        "  for element in input:\n",
        "    if type(element) == tuple:\n",
        "      res = res + list(element)\n",
        "    else:\n",
        "      res.append(element)\n",
        "  return res\n"
      ],
      "execution_count": null,
      "outputs": []
    },
    {
      "cell_type": "code",
      "metadata": {
        "id": "D8j_BWGfW3NP"
      },
      "source": [
        "def removeEnclosedRegion(regions, newR):\n",
        "  redundance = set()\n",
        "  for t in regions:\n",
        "    if set(t).issubset(newR):\n",
        "      redundance.add(t)\n",
        "\n",
        "  regions.symmetric_difference_update(redundance)\n",
        "  return regions"
      ],
      "execution_count": null,
      "outputs": []
    },
    {
      "cell_type": "code",
      "metadata": {
        "id": "vMnx7k5TW6Ay"
      },
      "source": [
        "def cropRect(RoIs, regions):\n",
        "  res = RoIs\n",
        "  for region in regions:\n",
        "    coords = regionsToCoord(RoIs, region)\n",
        "\n",
        "    coord_max = np.amax(coords, axis=0)\n",
        "    coord_min = np.amin(coords, axis=0)\n",
        "\n",
        "    vector = [coord_min[0], coord_min[1], coord_max[2], coord_max[3]]\n",
        "    res = np.vstack((res, vector))\n",
        "\n",
        "  return np.array(res)"
      ],
      "execution_count": null,
      "outputs": []
    },
    {
      "cell_type": "code",
      "metadata": {
        "id": "-cRss56VW8cw"
      },
      "source": [
        "def genRoIsperImg(im, size): \n",
        "  RoIs = initCoord(im, size)\n",
        "  regions = initRegions(size*size)\n",
        "\n",
        "  neighbourGrid = constructNeighbourGrid()\n",
        "\n",
        "  simGrid = set()\n",
        "  for i in range(size*size):\n",
        "    for j in range(i, size*size):\n",
        "      if neighbourGrid[i][j]:\n",
        "        img1 = extractImgbyRoI(im, regionsToCoord(RoIs, [i]))\n",
        "        img2 = extractImgbyRoI(im, regionsToCoord(RoIs, [j]))\n",
        "        simGrid.add((i, j, sim(img1, img2)))\n",
        "\n",
        "  regions_merged = set()\n",
        "  current_merged_regions = set()\n",
        "  i = 0\n",
        "  while len(simGrid) > 0:\n",
        "  #for i in range(20):\n",
        "    # print('itr#:', i, \" with size= \", len(simGrid))\n",
        "    i = i+1\n",
        "    region1, region2, _ = max(simGrid, key=lambda x:x[2])\n",
        "    #print(\"region1 = \", region1)\n",
        "    #print(\"region2 = \", region2)\n",
        "    newRegion = set()\n",
        "    newRegion.update(tuple2list(region1))\n",
        "    newRegion.update(tuple2list(region2))\n",
        "    regions_merged.add(tuple(newRegion))\n",
        "    current_merged_regions = removeEnclosedRegion(current_merged_regions, tuple(newRegion))\n",
        "    current_merged_regions.add(tuple(newRegion))\n",
        "    removeList = list(filter(lambda x: x[0] == region1 or x[1] == region1, simGrid))\n",
        "    #print(\"remove one = \", removeList)\n",
        "    c1 = len(removeList)\n",
        "    simGrid.difference_update(removeList)\n",
        "    removeList = list(filter(lambda x: x[0] == region2 or x[1] == region2, simGrid))\n",
        "    #print(\"remove two = \", removeList)\n",
        "    c1 = c1 + len(removeList)\n",
        "    #print(\"no of removal = \", c1)\n",
        "    simGrid.difference_update(removeList)\n",
        "\n",
        "    neighbourRegions = findNeighbour(newRegion, 10)\n",
        "    #print(\"neigbour regions = \", neighbourRegions)\n",
        "    for j in range(len(neighbourRegions)):\n",
        "      neighbourRegion = neighbourRegions[j]\n",
        "      #print(\"==== current neibh = \", neighbourRegion)\n",
        "      counted = False\n",
        "      for region in filter(lambda x: neighbourRegion in x, current_merged_regions):\n",
        "        #print(\"region = \", region)\n",
        "        counted = True\n",
        "        img1 = extractImgbyRoI(im, regionsToCoord(RoIs, newRegion))\n",
        "        img2 = extractImgbyRoI(im, regionsToCoord(RoIs, region))\n",
        "        #print(\"add: \", (tuple(newRegion), region, sim(img1, img2)))\n",
        "        simGrid.add((tuple(newRegion), region, sim(img1, img2)))\n",
        "\n",
        "      if counted:\n",
        "        #print(neighbourRegion, ' is counted')\n",
        "        continue\n",
        "\n",
        "      for region in filter(lambda x:x==neighbourRegion, regions):\n",
        "        #print(\"single region = \", region)\n",
        "        img1 = extractImgbyRoI(im, regionsToCoord(RoIs, newRegion))\n",
        "        img2 = extractImgbyRoI(im, regionsToCoord(RoIs, [region]))\n",
        "        #print(\"add: \", (tuple(newRegion), region, sim(img1, img2)))\n",
        "        simGrid.add((tuple(newRegion), region, sim(img1, img2)))\n",
        "\n",
        "    if len(simGrid) <= 0:\n",
        "      break\n",
        "  \n",
        "  res = cropRect(RoIs, regions_merged)\n",
        "  res = set([tuple(ele) for ele in res])\n",
        "  res = np.array(list(res))\n",
        "  # print(\"finish\")\n",
        "  return res\n",
        "    #print(regions_merged)\n",
        "    #print(len(simGrid))"
      ],
      "execution_count": 179,
      "outputs": []
    },
    {
      "cell_type": "code",
      "metadata": {
        "id": "69Zrb5M-XDR5",
        "colab": {
          "base_uri": "https://localhost:8080/"
        },
        "outputId": "fcea949a-2934-4a23-d3ee-6b40998efed4"
      },
      "source": [
        "train=MyDataset(datatype='train', transform=None)\n",
        "\n",
        "im, box, turb = train[0]\n",
        "box = box.astype('int32') \n",
        "size = 10\n",
        "\n",
        "v = genRoIsperImg(im, size)"
      ],
      "execution_count": 154,
      "outputs": [
        {
          "output_type": "stream",
          "text": [
            "itr#: 0  with size=  180\n",
            "itr#: 1  with size=  179\n",
            "itr#: 2  with size=  178\n",
            "itr#: 3  with size=  177\n",
            "itr#: 4  with size=  176\n",
            "itr#: 5  with size=  175\n",
            "itr#: 6  with size=  173\n",
            "itr#: 7  with size=  172\n",
            "itr#: 8  with size=  171\n",
            "itr#: 9  with size=  170\n",
            "itr#: 10  with size=  168\n",
            "itr#: 11  with size=  167\n",
            "itr#: 12  with size=  165\n",
            "itr#: 13  with size=  164\n",
            "itr#: 14  with size=  163\n",
            "itr#: 15  with size=  161\n",
            "itr#: 16  with size=  160\n",
            "itr#: 17  with size=  158\n",
            "itr#: 18  with size=  156\n",
            "itr#: 19  with size=  155\n",
            "itr#: 20  with size=  154\n",
            "itr#: 21  with size=  153\n",
            "itr#: 22  with size=  152\n",
            "itr#: 23  with size=  150\n",
            "itr#: 24  with size=  149\n",
            "itr#: 25  with size=  147\n",
            "itr#: 26  with size=  146\n",
            "itr#: 27  with size=  145\n",
            "itr#: 28  with size=  142\n",
            "itr#: 29  with size=  140\n",
            "itr#: 30  with size=  139\n",
            "itr#: 31  with size=  136\n",
            "itr#: 32  with size=  134\n",
            "itr#: 33  with size=  132\n",
            "itr#: 34  with size=  131\n",
            "itr#: 35  with size=  129\n",
            "itr#: 36  with size=  128\n",
            "itr#: 37  with size=  125\n",
            "itr#: 38  with size=  123\n",
            "itr#: 39  with size=  121\n",
            "itr#: 40  with size=  119\n",
            "itr#: 41  with size=  118\n",
            "itr#: 42  with size=  115\n",
            "itr#: 43  with size=  113\n",
            "itr#: 44  with size=  112\n",
            "itr#: 45  with size=  109\n",
            "itr#: 46  with size=  107\n",
            "itr#: 47  with size=  104\n",
            "itr#: 48  with size=  102\n",
            "itr#: 49  with size=  100\n",
            "itr#: 50  with size=  98\n",
            "itr#: 51  with size=  96\n",
            "itr#: 52  with size=  94\n",
            "itr#: 53  with size=  92\n",
            "itr#: 54  with size=  90\n",
            "itr#: 55  with size=  88\n",
            "itr#: 56  with size=  86\n",
            "itr#: 57  with size=  83\n",
            "itr#: 58  with size=  81\n",
            "itr#: 59  with size=  80\n",
            "itr#: 60  with size=  78\n",
            "itr#: 61  with size=  76\n",
            "itr#: 62  with size=  74\n",
            "itr#: 63  with size=  72\n",
            "itr#: 64  with size=  70\n",
            "itr#: 65  with size=  68\n",
            "itr#: 66  with size=  66\n",
            "itr#: 67  with size=  64\n",
            "itr#: 68  with size=  62\n",
            "itr#: 69  with size=  60\n",
            "itr#: 70  with size=  58\n",
            "itr#: 71  with size=  57\n",
            "itr#: 72  with size=  54\n",
            "itr#: 73  with size=  52\n",
            "itr#: 74  with size=  49\n",
            "itr#: 75  with size=  47\n",
            "itr#: 76  with size=  45\n",
            "itr#: 77  with size=  42\n",
            "itr#: 78  with size=  40\n",
            "itr#: 79  with size=  38\n",
            "itr#: 80  with size=  37\n",
            "itr#: 81  with size=  35\n",
            "itr#: 82  with size=  33\n",
            "itr#: 83  with size=  31\n",
            "itr#: 84  with size=  29\n",
            "itr#: 85  with size=  27\n",
            "itr#: 86  with size=  25\n",
            "itr#: 87  with size=  22\n",
            "itr#: 88  with size=  21\n",
            "itr#: 89  with size=  18\n",
            "itr#: 90  with size=  11\n",
            "itr#: 91  with size=  9\n",
            "itr#: 92  with size=  7\n",
            "itr#: 93  with size=  6\n",
            "itr#: 94  with size=  5\n",
            "itr#: 95  with size=  4\n",
            "itr#: 96  with size=  3\n",
            "itr#: 97  with size=  2\n",
            "itr#: 98  with size=  1\n",
            "finish\n"
          ],
          "name": "stdout"
        }
      ]
    },
    {
      "cell_type": "code",
      "metadata": {
        "id": "Y5gIzw8PyRck"
      },
      "source": [
        "box = box.astype('int32') "
      ],
      "execution_count": 145,
      "outputs": []
    },
    {
      "cell_type": "code",
      "metadata": {
        "colab": {
          "base_uri": "https://localhost:8080/"
        },
        "id": "stEr793nXZ0r",
        "outputId": "d90f788d-3cf1-414c-f471-e93745ca2be8"
      },
      "source": [
        "v.shape"
      ],
      "execution_count": 161,
      "outputs": [
        {
          "output_type": "execute_result",
          "data": {
            "text/plain": [
              "(165, 4)"
            ]
          },
          "metadata": {
            "tags": []
          },
          "execution_count": 161
        }
      ]
    },
    {
      "cell_type": "code",
      "metadata": {
        "colab": {
          "base_uri": "https://localhost:8080/"
        },
        "id": "1j7oPwtJAmJX",
        "outputId": "60d02758-b372-4cf1-f805-5d654ddf6118"
      },
      "source": [
        "v[0]"
      ],
      "execution_count": 155,
      "outputs": [
        {
          "output_type": "execute_result",
          "data": {
            "text/plain": [
              "array([168,   0, 251,  83])"
            ]
          },
          "metadata": {
            "tags": []
          },
          "execution_count": 155
        }
      ]
    },
    {
      "cell_type": "code",
      "metadata": {
        "colab": {
          "base_uri": "https://localhost:8080/"
        },
        "id": "d9ex1ESXBLC3",
        "outputId": "a761a967-4be3-432c-afae-9e76b3d8c43b"
      },
      "source": [
        "box[0]"
      ],
      "execution_count": 156,
      "outputs": [
        {
          "output_type": "execute_result",
          "data": {
            "text/plain": [
              "array([298, 315, 833, 443], dtype=int32)"
            ]
          },
          "metadata": {
            "tags": []
          },
          "execution_count": 156
        }
      ]
    },
    {
      "cell_type": "code",
      "metadata": {
        "colab": {
          "base_uri": "https://localhost:8080/"
        },
        "id": "6tVXZ2vjApn_",
        "outputId": "9aa1ab6f-f6d0-494a-95e7-f95ee16c707e"
      },
      "source": [
        "compute_IoU(box[1], v[100])"
      ],
      "execution_count": 159,
      "outputs": [
        {
          "output_type": "execute_result",
          "data": {
            "text/plain": [
              "tensor([0.0407])"
            ]
          },
          "metadata": {
            "tags": []
          },
          "execution_count": 159
        }
      ]
    },
    {
      "cell_type": "code",
      "metadata": {
        "colab": {
          "base_uri": "https://localhost:8080/"
        },
        "id": "NZHORXuoVSJt",
        "outputId": "07c204ca-1eeb-4ae1-948b-25e23c64c0f6"
      },
      "source": [
        "box.shape"
      ],
      "execution_count": 163,
      "outputs": [
        {
          "output_type": "execute_result",
          "data": {
            "text/plain": [
              "(8, 4)"
            ]
          },
          "metadata": {
            "tags": []
          },
          "execution_count": 163
        }
      ]
    },
    {
      "cell_type": "code",
      "metadata": {
        "colab": {
          "base_uri": "https://localhost:8080/"
        },
        "id": "lwrBJ9iBVtj6",
        "outputId": "68f769e0-a26f-47c6-d428-63147f412199"
      },
      "source": [
        "turb"
      ],
      "execution_count": 167,
      "outputs": [
        {
          "output_type": "execute_result",
          "data": {
            "text/plain": [
              "[2, 2, 1, 1, 1, 2, 1, 1]"
            ]
          },
          "metadata": {
            "tags": []
          },
          "execution_count": 167
        }
      ]
    },
    {
      "cell_type": "code",
      "metadata": {
        "colab": {
          "base_uri": "https://localhost:8080/"
        },
        "id": "jGy6GTpSYPdO",
        "outputId": "b9d959e6-79a0-49ae-a9d3-ad9f08e23474"
      },
      "source": [
        "v[0]"
      ],
      "execution_count": 175,
      "outputs": [
        {
          "output_type": "execute_result",
          "data": {
            "text/plain": [
              "array([168,   0, 251,  83])"
            ]
          },
          "metadata": {
            "tags": []
          },
          "execution_count": 175
        }
      ]
    },
    {
      "cell_type": "code",
      "metadata": {
        "colab": {
          "base_uri": "https://localhost:8080/"
        },
        "id": "0C4UkWnhYlOq",
        "outputId": "21819c0a-7b5b-4afc-eaf4-828b8f4b3c9f"
      },
      "source": [
        "for i in v:\n",
        "  IoU_list = []\n",
        "  for gt_box in box:\n",
        "    IoU = compute_IoU(i, gt_box)\n",
        "    IoU_list.append(IoU)\n",
        "  most_likely_gt_box_iou_score = max(IoU_list)\n",
        "  most_likely_gt_index = IoU_list.index(most_likely_gt_box_iou_score)\n",
        "  gt_box_coord = box[most_likely_gt_index]\n",
        "  if most_likely_gt_box_iou_score > 0:\n",
        "    gt_box_class = turb[most_likely_gt_index]\n",
        "  else:\n",
        "    gt_box_class = 0\n",
        "\n",
        "  print(most_likely_gt_box_iou_score, most_likely_gt_index, gt_box_coord, gt_box_class)\n",
        "\n",
        "  "
      ],
      "execution_count": 174,
      "outputs": [
        {
          "output_type": "stream",
          "text": [
            "tensor([0.]) 0 [298 315 833 443] 0\n",
            "tensor([0.3805]) 7 [475 515 585 591] 1\n",
            "tensor([0.3244]) 5 [ 54 382 346 545] 2\n",
            "tensor([0.5706]) 0 [298 315 833 443] 2\n",
            "tensor([0.2149]) 2 [ 59 546 267 638] 1\n",
            "tensor([0.3286]) 6 [ 24 239 130 295] 1\n",
            "tensor([0.1918]) 3 [519 148 682 210] 1\n",
            "tensor([0.2561]) 7 [475 515 585 591] 1\n",
            "tensor([0.3728]) 2 [ 59 546 267 638] 1\n",
            "tensor([0.6017]) 1 [ 83 379 315 463] 2\n",
            "tensor([0.1855]) 0 [298 315 833 443] 2\n",
            "tensor([0.4118]) 5 [ 54 382 346 545] 2\n",
            "tensor([0.6801]) 1 [ 83 379 315 463] 2\n",
            "tensor([0.5085]) 3 [519 148 682 210] 1\n",
            "tensor([0.1481]) 7 [475 515 585 591] 1\n",
            "tensor([0.5378]) 0 [298 315 833 443] 2\n",
            "tensor([0.]) 0 [298 315 833 443] 0\n",
            "tensor([0.5246]) 1 [ 83 379 315 463] 2\n",
            "tensor([0.1373]) 5 [ 54 382 346 545] 2\n",
            "tensor([0.3406]) 0 [298 315 833 443] 2\n",
            "tensor([0.3608]) 7 [475 515 585 591] 1\n",
            "tensor([0.]) 0 [298 315 833 443] 0\n",
            "tensor([0.2577]) 7 [475 515 585 591] 1\n",
            "tensor([0.7093]) 2 [ 59 546 267 638] 1\n",
            "tensor([0.4018]) 0 [298 315 833 443] 2\n",
            "tensor([0.]) 0 [298 315 833 443] 0\n",
            "tensor([0.2621]) 5 [ 54 382 346 545] 2\n",
            "tensor([0.6373]) 7 [475 515 585 591] 1\n",
            "tensor([0.5098]) 7 [475 515 585 591] 1\n",
            "tensor([0.5245]) 2 [ 59 546 267 638] 1\n",
            "tensor([0.3105]) 2 [ 59 546 267 638] 1\n",
            "tensor([0.4991]) 4 [392 134 616 199] 1\n",
            "tensor([0.5982]) 0 [298 315 833 443] 2\n",
            "tensor([0.3978]) 7 [475 515 585 591] 1\n",
            "tensor([0.]) 0 [298 315 833 443] 0\n",
            "tensor([0.2617]) 1 [ 83 379 315 463] 2\n",
            "tensor([0.0904]) 6 [ 24 239 130 295] 1\n",
            "tensor([0.5253]) 7 [475 515 585 591] 1\n",
            "tensor([0.2889]) 2 [ 59 546 267 638] 1\n",
            "tensor([0.1834]) 4 [392 134 616 199] 1\n",
            "tensor([0.5807]) 7 [475 515 585 591] 1\n",
            "tensor([0.3655]) 7 [475 515 585 591] 1\n",
            "tensor([0.3382]) 4 [392 134 616 199] 1\n",
            "tensor([0.4053]) 7 [475 515 585 591] 1\n",
            "tensor([0.4751]) 0 [298 315 833 443] 2\n",
            "tensor([0.0610]) 2 [ 59 546 267 638] 1\n",
            "tensor([0.1124]) 7 [475 515 585 591] 1\n",
            "tensor([0.4385]) 3 [519 148 682 210] 1\n",
            "tensor([0.2871]) 0 [298 315 833 443] 2\n",
            "tensor([0.0450]) 1 [ 83 379 315 463] 2\n",
            "tensor([0.0814]) 4 [392 134 616 199] 1\n",
            "tensor([0.5119]) 2 [ 59 546 267 638] 1\n",
            "tensor([0.0971]) 2 [ 59 546 267 638] 1\n",
            "tensor([0.3895]) 0 [298 315 833 443] 2\n",
            "tensor([0.1921]) 7 [475 515 585 591] 1\n",
            "tensor([0.3739]) 7 [475 515 585 591] 1\n",
            "tensor([0.0535]) 2 [ 59 546 267 638] 1\n",
            "tensor([0.2343]) 1 [ 83 379 315 463] 2\n",
            "tensor([0.2833]) 7 [475 515 585 591] 1\n",
            "tensor([0.6777]) 0 [298 315 833 443] 2\n",
            "tensor([0.3303]) 0 [298 315 833 443] 2\n",
            "tensor([0.]) 0 [298 315 833 443] 0\n",
            "tensor([0.5957]) 3 [519 148 682 210] 1\n",
            "tensor([0.0650]) 2 [ 59 546 267 638] 1\n",
            "tensor([0.3017]) 7 [475 515 585 591] 1\n",
            "tensor([0.3067]) 3 [519 148 682 210] 1\n",
            "tensor([0.5707]) 6 [ 24 239 130 295] 1\n",
            "tensor([0.2161]) 6 [ 24 239 130 295] 1\n",
            "tensor([0.4844]) 5 [ 54 382 346 545] 2\n",
            "tensor([0.2621]) 6 [ 24 239 130 295] 1\n",
            "tensor([0.5430]) 2 [ 59 546 267 638] 1\n",
            "tensor([0.3132]) 3 [519 148 682 210] 1\n",
            "tensor([0.2634]) 7 [475 515 585 591] 1\n",
            "tensor([0.3158]) 7 [475 515 585 591] 1\n",
            "tensor([0.4153]) 3 [519 148 682 210] 1\n",
            "tensor([0.1911]) 7 [475 515 585 591] 1\n",
            "tensor([0.1455]) 4 [392 134 616 199] 1\n",
            "tensor([0.2248]) 7 [475 515 585 591] 1\n",
            "tensor([0.]) 0 [298 315 833 443] 0\n",
            "tensor([0.3872]) 7 [475 515 585 591] 1\n",
            "tensor([0.1945]) 0 [298 315 833 443] 2\n",
            "tensor([0.6346]) 6 [ 24 239 130 295] 1\n",
            "tensor([0.0188]) 4 [392 134 616 199] 1\n",
            "tensor([0.]) 0 [298 315 833 443] 0\n",
            "tensor([0.2875]) 0 [298 315 833 443] 2\n",
            "tensor([0.3080]) 7 [475 515 585 591] 1\n",
            "tensor([0.1552]) 7 [475 515 585 591] 1\n",
            "tensor([0.8018]) 5 [ 54 382 346 545] 2\n",
            "tensor([0.2903]) 7 [475 515 585 591] 1\n",
            "tensor([0.5669]) 1 [ 83 379 315 463] 2\n",
            "tensor([0.4319]) 3 [519 148 682 210] 1\n",
            "tensor([0.2242]) 7 [475 515 585 591] 1\n",
            "tensor([0.5665]) 7 [475 515 585 591] 1\n",
            "tensor([0.3836]) 2 [ 59 546 267 638] 1\n",
            "tensor([0.1630]) 7 [475 515 585 591] 1\n",
            "tensor([0.5138]) 7 [475 515 585 591] 1\n",
            "tensor([0.2348]) 6 [ 24 239 130 295] 1\n",
            "tensor([0.3003]) 7 [475 515 585 591] 1\n",
            "tensor([0.]) 0 [298 315 833 443] 0\n",
            "tensor([0.1841]) 6 [ 24 239 130 295] 1\n",
            "tensor([0.0964]) 4 [392 134 616 199] 1\n",
            "tensor([0.3266]) 3 [519 148 682 210] 1\n",
            "tensor([0.3557]) 4 [392 134 616 199] 1\n",
            "tensor([0.4388]) 7 [475 515 585 591] 1\n",
            "tensor([0.2216]) 7 [475 515 585 591] 1\n",
            "tensor([0.2719]) 7 [475 515 585 591] 1\n",
            "tensor([0.0125]) 6 [ 24 239 130 295] 1\n",
            "tensor([0.3924]) 0 [298 315 833 443] 2\n",
            "tensor([0.1605]) 7 [475 515 585 591] 1\n",
            "tensor([0.4619]) 3 [519 148 682 210] 1\n",
            "tensor([0.4044]) 2 [ 59 546 267 638] 1\n",
            "tensor([0.3631]) 4 [392 134 616 199] 1\n",
            "tensor([0.5880]) 5 [ 54 382 346 545] 2\n",
            "tensor([0.2971]) 2 [ 59 546 267 638] 1\n",
            "tensor([0.0117]) 6 [ 24 239 130 295] 1\n",
            "tensor([0.3946]) 7 [475 515 585 591] 1\n",
            "tensor([0.2982]) 2 [ 59 546 267 638] 1\n",
            "tensor([0.2818]) 4 [392 134 616 199] 1\n",
            "tensor([0.1376]) 4 [392 134 616 199] 1\n",
            "tensor([0.2815]) 4 [392 134 616 199] 1\n",
            "tensor([0.]) 0 [298 315 833 443] 0\n",
            "tensor([0.5601]) 2 [ 59 546 267 638] 1\n",
            "tensor([0.3325]) 6 [ 24 239 130 295] 1\n",
            "tensor([0.3373]) 4 [392 134 616 199] 1\n",
            "tensor([0.6734]) 7 [475 515 585 591] 1\n",
            "tensor([0.0203]) 4 [392 134 616 199] 1\n",
            "tensor([0.3109]) 0 [298 315 833 443] 2\n",
            "tensor([0.1880]) 6 [ 24 239 130 295] 1\n",
            "tensor([0.0745]) 2 [ 59 546 267 638] 1\n",
            "tensor([0.2521]) 3 [519 148 682 210] 1\n",
            "tensor([0.0430]) 2 [ 59 546 267 638] 1\n",
            "tensor([0.6661]) 0 [298 315 833 443] 2\n",
            "tensor([0.4428]) 7 [475 515 585 591] 1\n",
            "tensor([0.2806]) 7 [475 515 585 591] 1\n",
            "tensor([0.2783]) 0 [298 315 833 443] 2\n",
            "tensor([0.5471]) 7 [475 515 585 591] 1\n",
            "tensor([0.0893]) 6 [ 24 239 130 295] 1\n",
            "tensor([0.3185]) 7 [475 515 585 591] 1\n",
            "tensor([0.3965]) 4 [392 134 616 199] 1\n",
            "tensor([0.3919]) 7 [475 515 585 591] 1\n",
            "tensor([0.7386]) 2 [ 59 546 267 638] 1\n",
            "tensor([0.0776]) 4 [392 134 616 199] 1\n",
            "tensor([0.3137]) 0 [298 315 833 443] 2\n",
            "tensor([0.0741]) 6 [ 24 239 130 295] 1\n",
            "tensor([0.3406]) 0 [298 315 833 443] 2\n",
            "tensor([0.2090]) 7 [475 515 585 591] 1\n",
            "tensor([0.2505]) 0 [298 315 833 443] 2\n",
            "tensor([0.4197]) 1 [ 83 379 315 463] 2\n",
            "tensor([0.]) 0 [298 315 833 443] 0\n",
            "tensor([0.6257]) 2 [ 59 546 267 638] 1\n",
            "tensor([0.2785]) 7 [475 515 585 591] 1\n",
            "tensor([0.4401]) 7 [475 515 585 591] 1\n",
            "tensor([0.4090]) 1 [ 83 379 315 463] 2\n",
            "tensor([0.1930]) 5 [ 54 382 346 545] 2\n",
            "tensor([0.4849]) 3 [519 148 682 210] 1\n",
            "tensor([0.3973]) 0 [298 315 833 443] 2\n",
            "tensor([0.3226]) 0 [298 315 833 443] 2\n",
            "tensor([0.0748]) 4 [392 134 616 199] 1\n",
            "tensor([0.2770]) 0 [298 315 833 443] 2\n",
            "tensor([0.3213]) 0 [298 315 833 443] 2\n",
            "tensor([0.5965]) 3 [519 148 682 210] 1\n",
            "tensor([0.8652]) 7 [475 515 585 591] 1\n",
            "tensor([0.2105]) 7 [475 515 585 591] 1\n",
            "tensor([0.3111]) 0 [298 315 833 443] 2\n",
            "tensor([0.4440]) 5 [ 54 382 346 545] 2\n"
          ],
          "name": "stdout"
        }
      ]
    },
    {
      "cell_type": "code",
      "metadata": {
        "id": "BfzL2vYKxlTa"
      },
      "source": [
        ""
      ],
      "execution_count": null,
      "outputs": []
    }
  ]
}