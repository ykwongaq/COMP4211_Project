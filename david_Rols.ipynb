{
  "nbformat": 4,
  "nbformat_minor": 0,
  "metadata": {
    "kernelspec": {
      "display_name": "Python 3",
      "language": "python",
      "name": "python3"
    },
    "language_info": {
      "codemirror_mode": {
        "name": "ipython",
        "version": 3
      },
      "file_extension": ".py",
      "mimetype": "text/x-python",
      "name": "python",
      "nbconvert_exporter": "python",
      "pygments_lexer": "ipython3",
      "version": "3.8.5"
    },
    "colab": {
      "name": "david_Rols.ipynb",
      "provenance": [],
      "collapsed_sections": []
    }
  },
  "cells": [
    {
      "cell_type": "code",
      "metadata": {
        "id": "lBI2UQNytNaQ"
      },
      "source": [
        "import time\n",
        "import os\n",
        "import random\n",
        "import math\n",
        "\n",
        "import torch\n",
        "import torchvision\n",
        "import torch.nn as nn\n",
        "import torch.optim as optim\n",
        "import numpy as np\n",
        "import matplotlib.pyplot as plt\n",
        "from torch.utils.data import Dataset\n",
        "from torch.optim import lr_scheduler\n",
        "from torch.autograd import Variable\n",
        "from torchvision import transforms, models\n",
        "from PIL import Image\n",
        "from sklearn.model_selection import KFold\n",
        "from tqdm.auto import tqdm\n",
        "\n",
        "from scipy import ndimage\n",
        "\n",
        "%matplotlib inline"
      ],
      "execution_count": 2,
      "outputs": []
    },
    {
      "cell_type": "code",
      "metadata": {
        "id": "5Yu38tCTtPOR",
        "colab": {
          "base_uri": "https://localhost:8080/"
        },
        "outputId": "3d413ad8-4c63-4b4c-89ab-749f3b14cf02"
      },
      "source": [
        "assert os.environ['COLAB_GPU'], 'Make sure to select GPU from Edit > Notebook settings > Hardware accelerator'\n",
        "from google.colab import drive\n",
        "drive.mount('/content/drive')"
      ],
      "execution_count": 3,
      "outputs": [
        {
          "output_type": "stream",
          "text": [
            "Mounted at /content/drive\n"
          ],
          "name": "stdout"
        }
      ]
    },
    {
      "cell_type": "code",
      "metadata": {
        "id": "ogd4t6imtS_2"
      },
      "source": [
        "!rm -f data\n",
        "!ln -s '/content/drive/My Drive/proj2_data' data"
      ],
      "execution_count": 4,
      "outputs": []
    },
    {
      "cell_type": "markdown",
      "metadata": {
        "id": "w4CcEo-6b_pt"
      },
      "source": [
        "#some utility"
      ]
    },
    {
      "cell_type": "code",
      "metadata": {
        "id": "D8s2RFwVcBeG"
      },
      "source": [
        "def collate_fn1(batch):\n",
        "    return tuple(zip(*batch))\n",
        "\n",
        "def imshow(img, gt_box, turb_type,pred_box=None):\n",
        "    plt.imshow(img)\n",
        "    \n",
        "    def draw_box(box, turb_type):\n",
        "        x, y, w, h = box\n",
        "        if x == 0:\n",
        "            x = 1\n",
        "        if y == 0:\n",
        "            y = 1\n",
        "        if turb_type=='turbulence':\n",
        "          color='red'\n",
        "        else:\n",
        "          color='green'\n",
        "        plt.gca().add_patch(\n",
        "            plt.Rectangle((x, y), w-x, h-y,\n",
        "                          fill=False, edgecolor=color, linewidth=2, alpha=0.5)\n",
        "        )\n",
        "\n",
        "    for i in range(len(gt_box)):\n",
        "      draw_box(gt_box[i],turb_type[i])\n",
        "    if pred_box is not None:\n",
        "        draw_box(pred_box, 'blue')\n",
        "    plt.plot()"
      ],
      "execution_count": 5,
      "outputs": []
    },
    {
      "cell_type": "markdown",
      "metadata": {
        "id": "Kfhg8gxbb5_X"
      },
      "source": [
        "# define dataset"
      ]
    },
    {
      "cell_type": "code",
      "metadata": {
        "id": "nyeI_EEgva71"
      },
      "source": [
        "class MyDataset(Dataset):\n",
        "    def __init__(self, datatype='train', transform=None):\n",
        "        with open('data/bbox_'+datatype+'.csv') as f:\n",
        "            id_to_box = dict()\n",
        "            id_to_path = dict()\n",
        "            id_to_turb= dict()\n",
        "            last_name='none'\n",
        "            idx=-1\n",
        "            for line in f.read().splitlines():\n",
        "                filename, wid, hei, turb, *box = line.split(',') # get all variable\n",
        "                if turb =='severe turbulence':\n",
        "                  turb_no=2\n",
        "                else:\n",
        "                  turb_no=1\n",
        "                if filename == 'filename': # skip the title\n",
        "                  continue\n",
        "\n",
        "                if filename==last_name:\n",
        "                  id_to_box[idx].append(list(map(float, box)))\n",
        "                  id_to_turb[idx].append(turb_no)\n",
        "                  \n",
        "                else:\n",
        "                  idx=idx+1\n",
        "                  id_to_path[idx]=filename\n",
        "                  id_to_box[idx]=[list(map(float, box))]\n",
        "                  id_to_turb[idx]=[turb_no]\n",
        "                  last_name=filename\n",
        "\n",
        "            self.imgs = [(os.path.join('data/'+datatype, id_to_path[i]), id_to_box[i],id_to_turb[i])\n",
        "                     for i in range(len(id_to_path))]\n",
        "\n",
        "            #transform data\n",
        "            self.target_transform = transforms.Compose([\n",
        "                transforms.Resize((840, 840)),\n",
        "                transforms.ToTensor()\n",
        "            ])\n",
        "            self.transform = transforms.Compose([\n",
        "                self.target_transform,\n",
        "                #transforms.Normalize([0.485, 0.456, 0.406], [0.229, 0.224, 0.225])\n",
        "            ])\n",
        "            if transform is not None:\n",
        "                self.transform = transforms.Compose([\n",
        "                    transform,\n",
        "                    self.transform\n",
        "                ])\n",
        "                self.target_transform = transforms.Compose([\n",
        "                    transform,\n",
        "                    self.target_transform\n",
        "                ])\n",
        "\n",
        "    def __getitem__(self, index):\n",
        "      path, box, turb = self.imgs[index]\n",
        "      im = (np.load(path))/292*255\n",
        "      im=np.transpose(im,(1, 2, 0))\n",
        "      im=np.uint8(im)\n",
        "      boxes = np.array(box, dtype='float32')\n",
        "      seed = np.random.randint(2147483647)\n",
        "      random.seed(seed)\n",
        "      torch.manual_seed(seed)\n",
        "      PIL = transforms.ToPILImage()(im).convert('RGB')#if you want to output 4 dimension data, change to .convert('RGBA'). While you will not able to do transforms.Normalize()\n",
        "      im = self.transform(PIL)*255\n",
        "\n",
        "\n",
        "      #return im,target\n",
        "      return im, boxes, turb\n",
        "\n",
        "    def __len__(self):\n",
        "        return len(self.imgs)"
      ],
      "execution_count": 6,
      "outputs": []
    },
    {
      "cell_type": "code",
      "metadata": {
        "id": "jlXTlGNT-eEH"
      },
      "source": [
        "#dataloader\n",
        "train=MyDataset(datatype='train', transform=None)\n",
        "test=MyDataset(datatype='test', transform=None)\n",
        "val=MyDataset(datatype='val', transform=None)\n",
        "datasets={'train':train,'test':test,'val':val}\n",
        "dataloaders = {k: torch.utils.data.DataLoader(\n",
        "                v, batch_size=32, shuffle=(k=='train'),\n",
        "                num_workers=2,collate_fn=collate_fn1,pin_memory=True) for k, v in datasets.items()}"
      ],
      "execution_count": 7,
      "outputs": []
    },
    {
      "cell_type": "markdown",
      "metadata": {
        "id": "4uahy7GWc5Bm"
      },
      "source": [
        "#test"
      ]
    },
    {
      "cell_type": "code",
      "metadata": {
        "colab": {
          "base_uri": "https://localhost:8080/",
          "height": 405
        },
        "id": "XWZSi1_hc6j1",
        "outputId": "0089f822-db53-4a1e-fd67-f6d971b3f132"
      },
      "source": [
        "dataset=MyDataset(datatype='train',transform=None)\n",
        "im, box, turb = dataset[0]\n",
        "\n",
        "inp = im.numpy().transpose((1, 2, 0))/255\n",
        "#mean = np.array([0.485, 0.456, 0.406])\n",
        "#std = np.array([0.229, 0.224, 0.225])\n",
        "#inp = std * inp + mean\n",
        "imshow(inp, box,turb)\n",
        "print(box)"
      ],
      "execution_count": 8,
      "outputs": [
        {
          "output_type": "stream",
          "text": [
            "[[298. 315. 833. 443.]\n",
            " [ 83. 379. 315. 463.]\n",
            " [ 59. 546. 267. 638.]\n",
            " [519. 148. 682. 210.]\n",
            " [392. 134. 616. 199.]\n",
            " [ 54. 382. 346. 545.]\n",
            " [ 24. 239. 130. 295.]\n",
            " [475. 515. 585. 591.]]\n"
          ],
          "name": "stdout"
        },
        {
          "output_type": "display_data",
          "data": {
            "image/png": "[encoded data removed]",
            "text/plain": [
              "<Figure size 432x288 with 1 Axes>"
            ]
          },
          "metadata": {
            "tags": [],
            "needs_background": "light"
          }
        }
      ]
    },
    {
      "cell_type": "code",
      "metadata": {
        "id": "9CDs4luPpxEu"
      },
      "source": [
        "def extractImgbyRoI(img, Coords):\r\n",
        "  (x_min, y_min, x_max, y_max) = Coords[0]\r\n",
        "  result = img[:, y_min:y_max, x_min:x_max]\r\n",
        "  for i in range(1, len(Coords)):\r\n",
        "    (x_min, y_min, x_max, y_max) = Coords[i]\r\n",
        "    result = np.concatenate((result, img[:, y_min:y_max, x_min:x_max]), axis=2)\r\n",
        "  return np.array(result)"
      ],
      "execution_count": 9,
      "outputs": []
    },
    {
      "cell_type": "code",
      "metadata": {
        "id": "zRGxC8nlr2gf"
      },
      "source": [
        "def myImgShow(img):\r\n",
        "  img = img.transpose((1, 2, 0))/255\r\n",
        "  #img = img.numpy().transpose((1, 2, 0))/255\r\n",
        "  plt.imshow(img)"
      ],
      "execution_count": 10,
      "outputs": []
    },
    {
      "cell_type": "code",
      "metadata": {
        "id": "7EMjGTQusQXY"
      },
      "source": [
        "def constructNeighbourGrid():\r\n",
        "  size = 10\r\n",
        "  neighbourGrid = []\r\n",
        " \r\n",
        "  for i in range(size):\r\n",
        "    for j in range(size):\r\n",
        "      background = np.zeros((10, 10))\r\n",
        "      #background[i][j] = 1\r\n",
        "      # Dilation\r\n",
        "      if i-1 >= 0: background[i-1][j] = 1\r\n",
        "      if i+1 < size: background[i+1][j] = 1\r\n",
        "      if j-1 >= 0: background[i][j-1] = 1\r\n",
        "      if j+1 < size: background[i][j+1] = 1\r\n",
        "\r\n",
        "      background = background.flatten()\r\n",
        "      neighbourGrid.append(background == 1)\r\n",
        "\r\n",
        "  return np.array(neighbourGrid)"
      ],
      "execution_count": 11,
      "outputs": []
    },
    {
      "cell_type": "code",
      "metadata": {
        "id": "XKU4EJKSykkd"
      },
      "source": [
        "def initCoord(img, size):\r\n",
        "  _, h, w = img.shape\r\n",
        "  sub_h, sub_w = math.floor(h/size), math.floor(w/size)\r\n",
        "  RoIs = np.array([[[j*sub_w, i*sub_h, (j+1)*sub_w-1, (i+1)*sub_h-1] for j in range(size)] for i in range(size)])\r\n",
        "  RoIs = RoIs.reshape(size*size, 4)\r\n",
        "  return RoIs"
      ],
      "execution_count": 12,
      "outputs": []
    },
    {
      "cell_type": "code",
      "metadata": {
        "id": "XZLzmWPNa8WH"
      },
      "source": [
        "def initRegions(size):\r\n",
        "  return set([(i) for i in range(size)])"
      ],
      "execution_count": 13,
      "outputs": []
    },
    {
      "cell_type": "code",
      "metadata": {
        "id": "Z0DzDMiFWDZe"
      },
      "source": [
        "def regionsToCoord(Coords, regions):\r\n",
        "  regions_list = tuple2list(regions)\r\n",
        "  res = Coords[regions_list[0]].reshape(1, 4)\r\n",
        "  for i in range(1, len(regions_list)):\r\n",
        "    res = np.concatenate((res, Coords[regions_list[i]].reshape((1, 4))))\r\n",
        "  return res"
      ],
      "execution_count": 14,
      "outputs": []
    },
    {
      "cell_type": "code",
      "metadata": {
        "id": "7lY_weKxekWr"
      },
      "source": [
        "def regionsToCoord_test(Coords, regions):\r\n",
        "  print(regions)\r\n",
        "  regions_list = tuple2list(regions)\r\n",
        "  print(regions_list[0])\r\n",
        "  print(Coords[regions_list[0]].reshape(1, 4))\r\n",
        "  res = Coords[regions_list[0]].reshape(1, 4)\r\n",
        "  for i in range(1, len(regions_list)):\r\n",
        "    res = np.concatenate((res, Coords[regions_list[i]].reshape((1, 4))))\r\n",
        "  return res"
      ],
      "execution_count": 15,
      "outputs": []
    },
    {
      "cell_type": "code",
      "metadata": {
        "id": "aR5Ao1A78UJc"
      },
      "source": [
        "def getHist(img):\r\n",
        "  D, _, _ = img.shape\r\n",
        "  histogram = []\r\n",
        "  for channel_idx in range(D):\r\n",
        "    h, _ = np.histogram(img[channel_idx, :, :], bins=25)\r\n",
        "    histogram = histogram + list(h)\r\n",
        "  histogram = np.array(histogram/np.linalg.norm(histogram, 1))\r\n",
        "  return histogram"
      ],
      "execution_count": 16,
      "outputs": []
    },
    {
      "cell_type": "code",
      "metadata": {
        "id": "8tF5NCXkCG0l"
      },
      "source": [
        "def sim(region1, region2):\r\n",
        "  histogram1 = getHist(region1)\r\n",
        "  histogram2 = getHist(region2)\r\n",
        "\r\n",
        "  sim = np.vstack((histogram1, histogram2))\r\n",
        "  sim = np.amin(sim, 0)\r\n",
        "  sim = sim.sum()\r\n",
        "\r\n",
        "  return sim"
      ],
      "execution_count": 17,
      "outputs": []
    },
    {
      "cell_type": "code",
      "metadata": {
        "id": "jbqd9W5FR7FO"
      },
      "source": [
        "def findNeighbour(regions, size):\r\n",
        "  neighbourGrid = np.zeros((size*size, 1))\r\n",
        "  neighbourGrid[tuple2list(regions)] = 1\r\n",
        "  neighbourGrid = neighbourGrid.reshape((size, size))\r\n",
        "  neighbourGrid = ndimage.binary_dilation(neighbourGrid).astype(neighbourGrid.dtype)\r\n",
        "  neighbourGrid = neighbourGrid.reshape((size*size, 1))\r\n",
        "  neighbourGrid[tuple2list(regions)] = 0\r\n",
        "  return np.where(neighbourGrid == 1)[0]"
      ],
      "execution_count": 18,
      "outputs": []
    },
    {
      "cell_type": "code",
      "metadata": {
        "id": "lnWB8SyTk8-c"
      },
      "source": [
        "def tuple2list(input):\r\n",
        "  if type(input) == int:\r\n",
        "    return [input]\r\n",
        "  res = []\r\n",
        "  for element in input:\r\n",
        "    if type(element) == tuple:\r\n",
        "      res = res + list(element)\r\n",
        "    else:\r\n",
        "      res.append(element)\r\n",
        "  return res\r\n"
      ],
      "execution_count": 19,
      "outputs": []
    },
    {
      "cell_type": "code",
      "metadata": {
        "id": "6m4FZCm_ELyW"
      },
      "source": [
        "def removeEnclosedRegion(regions, newR):\r\n",
        "  redundance = set()\r\n",
        "  for t in regions:\r\n",
        "    if set(t).issubset(newR):\r\n",
        "      redundance.add(t)\r\n",
        "\r\n",
        "  regions.symmetric_difference_update(redundance)\r\n",
        "  return regions"
      ],
      "execution_count": 20,
      "outputs": []
    },
    {
      "cell_type": "code",
      "metadata": {
        "id": "yoI-5Ni0TQdV"
      },
      "source": [
        "def cropRect(RoIs, regions):\r\n",
        "  res = RoIs\r\n",
        "  for region in regions:\r\n",
        "    coords = regionsToCoord(RoIs, region)\r\n",
        "\r\n",
        "    coord_max = np.amax(coords, axis=0)\r\n",
        "    coord_min = np.amin(coords, axis=0)\r\n",
        "\r\n",
        "    vector = [coord_min[0], coord_min[1], coord_max[2], coord_max[3]]\r\n",
        "    res = np.vstack((res, vector))\r\n",
        "\r\n",
        "  return np.array(res)"
      ],
      "execution_count": 21,
      "outputs": []
    },
    {
      "cell_type": "code",
      "metadata": {
        "id": "5WH8wBU4sUNz"
      },
      "source": [
        "def genRoIsperImg(im, size): \r\n",
        "  RoIs = initCoord(im, size)\r\n",
        "  regions = initRegions(size*size)\r\n",
        "\r\n",
        "  neighbourGrid = constructNeighbourGrid()\r\n",
        "\r\n",
        "  simGrid = set()\r\n",
        "  for i in range(size*size):\r\n",
        "    for j in range(i, size*size):\r\n",
        "      if neighbourGrid[i][j]:\r\n",
        "        img1 = extractImgbyRoI(im, regionsToCoord(RoIs, [i]))\r\n",
        "        img2 = extractImgbyRoI(im, regionsToCoord(RoIs, [j]))\r\n",
        "        simGrid.add((i, j, sim(img1, img2)))\r\n",
        "\r\n",
        "  regions_merged = set()\r\n",
        "  current_merged_regions = set()\r\n",
        "  i = 0\r\n",
        "  while len(simGrid) > 0:\r\n",
        "  #for i in range(20):\r\n",
        "    print('itr#:', i, \" with size= \", len(simGrid))\r\n",
        "    i = i+1\r\n",
        "    region1, region2, _ = max(simGrid, key=lambda x:x[2])\r\n",
        "    #print(\"region1 = \", region1)\r\n",
        "    #print(\"region2 = \", region2)\r\n",
        "    newRegion = set()\r\n",
        "    newRegion.update(tuple2list(region1))\r\n",
        "    newRegion.update(tuple2list(region2))\r\n",
        "    regions_merged.add(tuple(newRegion))\r\n",
        "    current_merged_regions = removeEnclosedRegion(current_merged_regions, tuple(newRegion))\r\n",
        "    current_merged_regions.add(tuple(newRegion))\r\n",
        "    removeList = list(filter(lambda x: x[0] == region1 or x[1] == region1, simGrid))\r\n",
        "    #print(\"remove one = \", removeList)\r\n",
        "    c1 = len(removeList)\r\n",
        "    simGrid.difference_update(removeList)\r\n",
        "    removeList = list(filter(lambda x: x[0] == region2 or x[1] == region2, simGrid))\r\n",
        "    #print(\"remove two = \", removeList)\r\n",
        "    c1 = c1 + len(removeList)\r\n",
        "    #print(\"no of removal = \", c1)\r\n",
        "    simGrid.difference_update(removeList)\r\n",
        "\r\n",
        "    neighbourRegions = findNeighbour(newRegion, 10)\r\n",
        "    #print(\"neigbour regions = \", neighbourRegions)\r\n",
        "    for j in range(len(neighbourRegions)):\r\n",
        "      neighbourRegion = neighbourRegions[j]\r\n",
        "      #print(\"==== current neibh = \", neighbourRegion)\r\n",
        "      counted = False\r\n",
        "      for region in filter(lambda x: neighbourRegion in x, current_merged_regions):\r\n",
        "        #print(\"region = \", region)\r\n",
        "        counted = True\r\n",
        "        img1 = extractImgbyRoI(im, regionsToCoord(RoIs, newRegion))\r\n",
        "        img2 = extractImgbyRoI(im, regionsToCoord(RoIs, region))\r\n",
        "        #print(\"add: \", (tuple(newRegion), region, sim(img1, img2)))\r\n",
        "        simGrid.add((tuple(newRegion), region, sim(img1, img2)))\r\n",
        "\r\n",
        "      if counted:\r\n",
        "        #print(neighbourRegion, ' is counted')\r\n",
        "        continue\r\n",
        "\r\n",
        "      for region in filter(lambda x:x==neighbourRegion, regions):\r\n",
        "        #print(\"single region = \", region)\r\n",
        "        img1 = extractImgbyRoI(im, regionsToCoord(RoIs, newRegion))\r\n",
        "        img2 = extractImgbyRoI(im, regionsToCoord(RoIs, [region]))\r\n",
        "        #print(\"add: \", (tuple(newRegion), region, sim(img1, img2)))\r\n",
        "        simGrid.add((tuple(newRegion), region, sim(img1, img2)))\r\n",
        "\r\n",
        "    if len(simGrid) <= 0:\r\n",
        "      break\r\n",
        "  \r\n",
        "  res = cropRect(RoIs, regions_merged)\r\n",
        "  res = set([tuple(ele) for ele in res])\r\n",
        "  res = np.array(list(res))\r\n",
        "  \r\n",
        "  return res\r\n",
        "    #print(regions_merged)\r\n",
        "    #print(len(simGrid))"
      ],
      "execution_count": 54,
      "outputs": []
    },
    {
      "cell_type": "code",
      "metadata": {
        "colab": {
          "base_uri": "https://localhost:8080/"
        },
        "id": "HBaTkBpQSoqD",
        "outputId": "03a62e33-efd1-46bc-aa2f-852819c2a486"
      },
      "source": [
        "dataset=MyDataset(datatype='train',transform=None)\r\n",
        "im, box, turb = dataset[0]\r\n",
        "size = 10\r\n",
        "\r\n",
        "v = genRoIsperImg(im, size)\r\n",
        "#print(v.shape)"
      ],
      "execution_count": 55,
      "outputs": [
        {
          "output_type": "stream",
          "text": [
            "itr#: 0  with size=  180\n",
            "itr#: 1  with size=  179\n",
            "itr#: 2  with size=  178\n",
            "itr#: 3  with size=  177\n",
            "itr#: 4  with size=  176\n",
            "itr#: 5  with size=  175\n",
            "itr#: 6  with size=  173\n",
            "itr#: 7  with size=  172\n",
            "itr#: 8  with size=  171\n",
            "itr#: 9  with size=  170\n",
            "itr#: 10  with size=  168\n",
            "itr#: 11  with size=  167\n",
            "itr#: 12  with size=  165\n",
            "itr#: 13  with size=  164\n",
            "itr#: 14  with size=  163\n",
            "itr#: 15  with size=  161\n",
            "itr#: 16  with size=  159\n",
            "itr#: 17  with size=  158\n",
            "itr#: 18  with size=  157\n",
            "itr#: 19  with size=  155\n",
            "itr#: 20  with size=  154\n",
            "itr#: 21  with size=  153\n",
            "itr#: 22  with size=  152\n",
            "itr#: 23  with size=  150\n",
            "itr#: 24  with size=  149\n",
            "itr#: 25  with size=  147\n",
            "itr#: 26  with size=  146\n",
            "itr#: 27  with size=  145\n",
            "itr#: 28  with size=  142\n",
            "itr#: 29  with size=  140\n",
            "itr#: 30  with size=  139\n",
            "itr#: 31  with size=  136\n",
            "itr#: 32  with size=  133\n",
            "itr#: 33  with size=  131\n",
            "itr#: 34  with size=  130\n",
            "itr#: 35  with size=  128\n",
            "itr#: 36  with size=  127\n",
            "itr#: 37  with size=  124\n",
            "itr#: 38  with size=  122\n",
            "itr#: 39  with size=  120\n",
            "itr#: 40  with size=  118\n",
            "itr#: 41  with size=  116\n",
            "itr#: 42  with size=  115\n",
            "itr#: 43  with size=  112\n",
            "itr#: 44  with size=  110\n",
            "itr#: 45  with size=  109\n",
            "itr#: 46  with size=  106\n",
            "itr#: 47  with size=  104\n",
            "itr#: 48  with size=  101\n",
            "itr#: 49  with size=  99\n",
            "itr#: 50  with size=  97\n",
            "itr#: 51  with size=  95\n",
            "itr#: 52  with size=  93\n",
            "itr#: 53  with size=  91\n",
            "itr#: 54  with size=  89\n",
            "itr#: 55  with size=  87\n",
            "itr#: 56  with size=  85\n",
            "itr#: 57  with size=  83\n",
            "itr#: 58  with size=  80\n",
            "itr#: 59  with size=  78\n",
            "itr#: 60  with size=  77\n",
            "itr#: 61  with size=  75\n",
            "itr#: 62  with size=  73\n",
            "itr#: 63  with size=  71\n",
            "itr#: 64  with size=  69\n",
            "itr#: 65  with size=  67\n",
            "itr#: 66  with size=  65\n",
            "itr#: 67  with size=  63\n",
            "itr#: 68  with size=  60\n",
            "itr#: 69  with size=  57\n",
            "itr#: 70  with size=  55\n",
            "itr#: 71  with size=  53\n",
            "itr#: 72  with size=  51\n",
            "itr#: 73  with size=  50\n",
            "itr#: 74  with size=  49\n",
            "itr#: 75  with size=  47\n",
            "itr#: 76  with size=  45\n",
            "itr#: 77  with size=  43\n",
            "itr#: 78  with size=  40\n",
            "itr#: 79  with size=  38\n",
            "itr#: 80  with size=  36\n",
            "itr#: 81  with size=  34\n",
            "itr#: 82  with size=  30\n",
            "itr#: 83  with size=  28\n",
            "itr#: 84  with size=  25\n",
            "itr#: 85  with size=  23\n",
            "itr#: 86  with size=  21\n",
            "itr#: 87  with size=  20\n",
            "itr#: 88  with size=  18\n",
            "itr#: 89  with size=  17\n",
            "itr#: 90  with size=  11\n",
            "itr#: 91  with size=  9\n",
            "itr#: 92  with size=  8\n",
            "itr#: 93  with size=  6\n",
            "itr#: 94  with size=  5\n",
            "itr#: 95  with size=  4\n",
            "itr#: 96  with size=  3\n",
            "itr#: 97  with size=  2\n",
            "itr#: 98  with size=  1\n"
          ],
          "name": "stdout"
        }
      ]
    },
    {
      "cell_type": "code",
      "metadata": {
        "colab": {
          "base_uri": "https://localhost:8080/",
          "height": 323
        },
        "id": "1B8qF2LD4Jeb",
        "outputId": "15ee3dff-eac9-4780-893a-3479732355dc"
      },
      "source": [
        "inp = im.numpy().transpose((1, 2, 0))/255\r\n",
        "imshow(inp, v[100:199, :], np.ones((100, 1)))"
      ],
      "execution_count": 40,
      "outputs": [
        {
          "output_type": "stream",
          "text": [
            "/usr/local/lib/python3.6/dist-packages/ipykernel_launcher.py:13: FutureWarning: elementwise comparison failed; returning scalar instead, but in the future will perform elementwise comparison\n",
            "  del sys.path[0]\n"
          ],
          "name": "stderr"
        },
        {
          "output_type": "display_data",
          "data": {
            "image/png": "[encoded data removed]",
            "text/plain": [
              "<Figure size 432x288 with 1 Axes>"
            ]
          },
          "metadata": {
            "tags": [],
            "needs_background": "light"
          }
        }
      ]
    },
    {
      "cell_type": "code",
      "metadata": {
        "colab": {
          "base_uri": "https://localhost:8080/"
        },
        "id": "m7mQYmwd6CKi",
        "outputId": "6996d8c0-52c9-4275-f850-5dbb67f7b9eb"
      },
      "source": [
        "v.shape"
      ],
      "execution_count": 56,
      "outputs": [
        {
          "output_type": "execute_result",
          "data": {
            "text/plain": [
              "(168, 4)"
            ]
          },
          "metadata": {
            "tags": []
          },
          "execution_count": 56
        }
      ]
    },
    {
      "cell_type": "code",
      "metadata": {
        "colab": {
          "base_uri": "https://localhost:8080/"
        },
        "id": "F-kydOFQCVgS",
        "outputId": "fb47e04d-7c10-4e1a-b26b-3d08cd0b1748"
      },
      "source": [
        "v"
      ],
      "execution_count": 57,
      "outputs": [
        {
          "output_type": "execute_result",
          "data": {
            "text/plain": [
              "array([[168,   0, 251,  83],\n",
              "       [336, 588, 503, 671],\n",
              "       [  0, 252, 671, 503],\n",
              "       [420, 336, 503, 419],\n",
              "       [168, 756, 251, 839],\n",
              "       [  0,  84, 167, 335],\n",
              "       [756,  84, 839, 167],\n",
              "       [420, 756, 503, 839],\n",
              "       [ 84, 756, 251, 839],\n",
              "       [ 84, 336, 251, 419],\n",
              "       [756, 252, 839, 335],\n",
              "       [168, 504, 251, 587],\n",
              "       [ 84, 336, 419, 503],\n",
              "       [504,  84, 839, 335],\n",
              "       [672, 756, 839, 839],\n",
              "       [588, 336, 671, 419],\n",
              "       [504,   0, 587,  83],\n",
              "       [168, 336, 251, 419],\n",
              "       [252, 588, 335, 671],\n",
              "       [336, 252, 503, 335],\n",
              "       [588, 420, 755, 503],\n",
              "       [420,   0, 503,  83],\n",
              "       [672, 588, 839, 755],\n",
              "       [ 84, 504, 251, 587],\n",
              "       [252, 336, 419, 419],\n",
              "       [336,   0, 419,  83],\n",
              "       [252, 420, 335, 503],\n",
              "       [504, 588, 587, 671],\n",
              "       [504, 588, 671, 755],\n",
              "       [ 84, 672, 251, 755],\n",
              "       [ 84, 672, 419, 839],\n",
              "       [420, 168, 503, 251],\n",
              "       [504, 336, 671, 503],\n",
              "       [588, 504, 839, 755],\n",
              "       [  0,   0,  83,  83],\n",
              "       [168, 252, 251, 335],\n",
              "       [  0, 420,  83, 503],\n",
              "       [588, 504, 755, 587],\n",
              "       [168, 672, 251, 755],\n",
              "       [252, 168, 335, 251],\n",
              "       [588, 504, 671, 587],\n",
              "       [420, 672, 503, 755],\n",
              "       [336, 168, 503, 335],\n",
              "       [336, 588, 839, 839],\n",
              "       [336, 336, 419, 419],\n",
              "       [  0, 504,  83, 587],\n",
              "       [756, 756, 839, 839],\n",
              "       [504, 168, 839, 335],\n",
              "       [  0,   0, 839, 839],\n",
              "       [168, 168, 251, 251],\n",
              "       [  0,   0, 503, 335],\n",
              "       [ 84, 504, 167, 587],\n",
              "       [252, 672, 335, 755],\n",
              "       [672, 336, 755, 419],\n",
              "       [756, 420, 839, 503],\n",
              "       [336, 504, 419, 587],\n",
              "       [  0, 672,  83, 755],\n",
              "       [  0, 168, 671, 503],\n",
              "       [ 84, 588, 839, 839],\n",
              "       [504, 336, 671, 419],\n",
              "       [588, 252, 671, 335],\n",
              "       [756,   0, 839,  83],\n",
              "       [588, 168, 671, 251],\n",
              "       [  0, 588,  83, 671],\n",
              "       [504, 756, 587, 839],\n",
              "       [756,  84, 839, 251],\n",
              "       [  0, 168, 839, 587],\n",
              "       [  0, 168, 167, 335],\n",
              "       [  0, 168,  83, 251],\n",
              "       [168, 420, 335, 503],\n",
              "       [ 84, 252, 167, 335],\n",
              "       [ 84, 588, 167, 671],\n",
              "       [756, 168, 839, 251],\n",
              "       [756, 504, 839, 587],\n",
              "       [588, 672, 671, 755],\n",
              "       [588, 168, 755, 335],\n",
              "       [756, 588, 839, 755],\n",
              "       [252,  84, 335, 167],\n",
              "       [672, 672, 755, 755],\n",
              "       [252,   0, 335,  83],\n",
              "       [420, 672, 671, 839],\n",
              "       [  0,   0, 839, 587],\n",
              "       [252, 252, 335, 335],\n",
              "       [  0, 252, 167, 335],\n",
              "       [168,  84, 251, 167],\n",
              "       [ 84,   0, 167,  83],\n",
              "       [336, 252, 419, 335],\n",
              "       [672, 588, 755, 671],\n",
              "       [756, 672, 839, 755],\n",
              "       [ 84, 420, 335, 503],\n",
              "       [420, 756, 671, 839],\n",
              "       [ 84, 336, 503, 503],\n",
              "       [672, 168, 755, 251],\n",
              "       [336, 672, 419, 755],\n",
              "       [504, 588, 671, 671],\n",
              "       [168, 588, 251, 671],\n",
              "       [336, 756, 419, 839],\n",
              "       [336, 420, 503, 587],\n",
              "       [420, 588, 503, 671],\n",
              "       [  0,  84, 251, 335],\n",
              "       [336, 588, 419, 671],\n",
              "       [588,   0, 671,  83],\n",
              "       [ 84, 168, 167, 251],\n",
              "       [168, 168, 335, 251],\n",
              "       [588,  84, 671, 167],\n",
              "       [336, 168, 419, 251],\n",
              "       [420, 420, 503, 503],\n",
              "       [588, 756, 671, 839],\n",
              "       [504, 756, 671, 839],\n",
              "       [  0,  84,  83, 167],\n",
              "       [504, 252, 587, 335],\n",
              "       [672, 756, 755, 839],\n",
              "       [588, 168, 671, 335],\n",
              "       [ 84, 672, 167, 755],\n",
              "       [504,  84, 587, 167],\n",
              "       [168, 420, 251, 503],\n",
              "       [ 84, 756, 335, 839],\n",
              "       [ 84,  84, 167, 167],\n",
              "       [672, 504, 755, 587],\n",
              "       [ 84, 756, 167, 839],\n",
              "       [  0,   0, 839, 335],\n",
              "       [  0,   0, 587, 335],\n",
              "       [336,  84, 419, 167],\n",
              "       [168,   0, 335,  83],\n",
              "       [ 84, 504, 335, 587],\n",
              "       [  0, 252,  83, 335],\n",
              "       [336,  84, 503, 167],\n",
              "       [420, 504, 503, 587],\n",
              "       [168,   0, 335, 167],\n",
              "       [  0,   0, 839, 755],\n",
              "       [  0, 336,  83, 419],\n",
              "       [252, 756, 335, 839],\n",
              "       [672,  84, 755, 167],\n",
              "       [  0, 756,  83, 839],\n",
              "       [504, 336, 587, 419],\n",
              "       [588, 588, 671, 671],\n",
              "       [672, 588, 755, 755],\n",
              "       [756, 336, 839, 419],\n",
              "       [504, 420, 587, 503],\n",
              "       [  0,   0, 335, 335],\n",
              "       [420, 672, 839, 839],\n",
              "       [420,  84, 503, 167],\n",
              "       [588, 420, 671, 503],\n",
              "       [  0, 504, 335, 671],\n",
              "       [168,  84, 335, 167],\n",
              "       [  0,   0, 419, 335],\n",
              "       [336, 504, 503, 587],\n",
              "       [420, 252, 503, 335],\n",
              "       [756, 588, 839, 671],\n",
              "       [672, 252, 755, 335],\n",
              "       [ 84, 252, 503, 503],\n",
              "       [672,   0, 755,  83],\n",
              "       [ 84, 504, 335, 671],\n",
              "       [672, 420, 755, 503],\n",
              "       [504, 672, 587, 755],\n",
              "       [ 84, 336, 167, 419],\n",
              "       [252, 504, 335, 587],\n",
              "       [504, 168, 755, 335],\n",
              "       [ 84, 252, 671, 503],\n",
              "       [336, 420, 419, 503],\n",
              "       [336,   0, 503, 167],\n",
              "       [  0, 168, 755, 503],\n",
              "       [  0, 168, 839, 503],\n",
              "       [504, 168, 587, 251],\n",
              "       [504, 504, 587, 587],\n",
              "       [336, 672, 419, 839],\n",
              "       [252, 336, 335, 419],\n",
              "       [ 84, 420, 167, 503]])"
            ]
          },
          "metadata": {
            "tags": []
          },
          "execution_count": 57
        }
      ]
    }
  ]
}