{
  "nbformat": 4,
  "nbformat_minor": 0,
  "metadata": {
    "kernelspec": {
      "display_name": "Python 3",
      "language": "python",
      "name": "python3"
    },
    "language_info": {
      "codemirror_mode": {
        "name": "ipython",
        "version": 3
      },
      "file_extension": ".py",
      "mimetype": "text/x-python",
      "name": "python",
      "nbconvert_exporter": "python",
      "pygments_lexer": "ipython3",
      "version": "3.8.5"
    },
    "colab": {
      "name": "Howard_dataloader_4d.ipynb",
      "provenance": [],
      "collapsed_sections": []
    }
  },
  "cells": [
    {
      "cell_type": "code",
      "metadata": {
        "id": "hT42F05lCKtv"
      },
      "source": [
        "import time\n",
        "import os\n",
        "import random\n",
        "import math\n",
        "\n",
        "import torch\n",
        "import torchvision\n",
        "import torch.nn as nn\n",
        "import torch.optim as optim\n",
        "import numpy as np\n",
        "import matplotlib.pyplot as plt\n",
        "from torch.utils.data import Dataset\n",
        "from torch.optim import lr_scheduler\n",
        "from torch.autograd import Variable\n",
        "from torchvision import transforms, models\n",
        "from PIL import Image\n",
        "from sklearn.model_selection import KFold\n",
        "from tqdm.auto import tqdm\n",
        "\n",
        "%matplotlib inline"
      ],
      "execution_count": 81,
      "outputs": []
    },
    {
      "cell_type": "code",
      "metadata": {
        "colab": {
          "base_uri": "https://localhost:8080/"
        },
        "id": "1WUXmPLACKtv",
        "outputId": "15aa60e2-0164-4737-d04a-c9494eaf14ff"
      },
      "source": [
        "assert os.environ['COLAB_GPU'], 'Make sure to select GPU from Edit > Notebook settings > Hardware accelerator'\n",
        "from google.colab import drive\n",
        "drive.mount('/content/drive')"
      ],
      "execution_count": 82,
      "outputs": [
        {
          "output_type": "stream",
          "text": [
            "Drive already mounted at /content/drive; to attempt to forcibly remount, call drive.mount(\"/content/drive\", force_remount=True).\n"
          ],
          "name": "stdout"
        }
      ]
    },
    {
      "cell_type": "code",
      "metadata": {
        "id": "qsyFTu4rCP3G"
      },
      "source": [
        "!rm -f data\n",
        "!ln -s '/content/drive/My Drive/proj2_data' data"
      ],
      "execution_count": 83,
      "outputs": []
    },
    {
      "cell_type": "markdown",
      "metadata": {
        "id": "w4CcEo-6b_pt"
      },
      "source": [
        "#some utility"
      ]
    },
    {
      "cell_type": "code",
      "metadata": {
        "id": "91s6zJTTDfXc"
      },
      "source": [
        "def collate_fn1(batch):\n",
        "    return tuple(zip(*batch))"
      ],
      "execution_count": 84,
      "outputs": []
    },
    {
      "cell_type": "markdown",
      "metadata": {
        "id": "Kfhg8gxbb5_X"
      },
      "source": [
        "# define dataset"
      ]
    },
    {
      "cell_type": "code",
      "metadata": {
        "id": "ipoVv8FtCaeU"
      },
      "source": [
        "class MyDataset(Dataset):\r\n",
        "    def __init__(self, datatype='train', transform=None):\r\n",
        "        with open('data/bbox_'+datatype+'.csv') as f:\r\n",
        "            id_to_box = dict()\r\n",
        "            id_to_path = dict()\r\n",
        "            id_to_turb= dict()\r\n",
        "            last_name='none'\r\n",
        "            idx=-1\r\n",
        "            for line in f.read().splitlines():\r\n",
        "                filename, wid, hei, turb, *box = line.split(',') # get all variable\r\n",
        "                if turb =='severe turbulence':\r\n",
        "                  turb_no=2\r\n",
        "                else:\r\n",
        "                  turb_no=1\r\n",
        "                if filename == 'filename': # skip the title\r\n",
        "                  continue\r\n",
        "\r\n",
        "                if filename==last_name:\r\n",
        "                  id_to_box[idx].append(list(map(float, box)))\r\n",
        "                  id_to_turb[idx].append(turb_no)\r\n",
        "                  \r\n",
        "                else:\r\n",
        "                  idx=idx+1\r\n",
        "                  id_to_path[idx]=filename\r\n",
        "                  id_to_box[idx]=[list(map(float, box))]\r\n",
        "                  id_to_turb[idx]=[turb_no]\r\n",
        "                  last_name=filename\r\n",
        "\r\n",
        "            self.imgs = [(os.path.join('data/'+datatype, id_to_path[i]), id_to_box[i],id_to_turb[i])\r\n",
        "                     for i in range(len(id_to_path))]\r\n",
        "\r\n",
        "            #transform data\r\n",
        "            self.target_transform = transforms.Compose([\r\n",
        "                transforms.Resize((840, 840)),\r\n",
        "                transforms.ToTensor()\r\n",
        "            ])\r\n",
        "            self.transform = transforms.Compose([\r\n",
        "                self.target_transform,\r\n",
        "                transforms.Normalize([0.485, 0.456, 0.406], [0.229, 0.224, 0.225])\r\n",
        "            ])\r\n",
        "            if transform is not None:\r\n",
        "                self.transform = transforms.Compose([\r\n",
        "                    transform,\r\n",
        "                    self.transform\r\n",
        "                ])\r\n",
        "                self.target_transform = transforms.Compose([\r\n",
        "                    transform,\r\n",
        "                    self.target_transform\r\n",
        "                ])\r\n",
        "                \r\n",
        "    #Added by Shih-Yang,LIU\r\n",
        "    #This prepare function calculate and store all the data needed for each image\r\n",
        "    # data includes image itself, ground truth roi, ground truth class labels and proposed rois of each image\r\n",
        "    # each element inside rois list is a tuple with first element being the coordinate of this roi in the foramte of (x1,y1,x2,y2)\r\n",
        "    # Second element within the tuple is a dictionary that store the information of this specific RoI\r\n",
        "    #{\r\n",
        "    #  roi_dict = {\r\n",
        "    #          \"gt_box_iou_score\": most_likely_gt_box_iou_score, ==> the iou score \r\n",
        "    #          \"gt_index\": most_likely_gt_index,\r\n",
        "    #          \"gt_box_coord\": gt_box_coord,\r\n",
        "    #          \"gt_box_coord_xywh\": gt_box_coord_xywh,\r\n",
        "    #          \"gt_box_class\": gt_box_class\r\n",
        "    #      }\r\n",
        "    #}\r\n",
        "    def prepare_data(self):\r\n",
        "      \r\n",
        "\r\n",
        "      self.data = []\r\n",
        "      img_count = 1\r\n",
        "      for img in self.imgs:\r\n",
        "        # if img_count == 5:\r\n",
        "        #   break\r\n",
        "        print(\"processing image#: \", img_count)\r\n",
        "        img_count = img_count+1\r\n",
        "        path, box, turb = img\r\n",
        "        im = (np.load(path))/292*255\r\n",
        "        im=np.transpose(im,(1, 2, 0))\r\n",
        "        im=np.uint8(im)\r\n",
        "        boxes = np.array(box, dtype='int32')\r\n",
        "        seed = np.random.randint(2147483647)\r\n",
        "        random.seed(seed)\r\n",
        "        torch.manual_seed(seed)\r\n",
        "        PIL = transforms.ToPILImage()(im).convert('RGB')#if you want to output 4 dimension data, change to .convert('RGBA'). While you will not able to do transforms.Normalize()\r\n",
        "        im = self.transform(PIL)\r\n",
        "\r\n",
        "        v = genRoIsperImg(im, 10)\r\n",
        "\r\n",
        "\r\n",
        "        proposed_roi_lable = []\r\n",
        "        for i in v:\r\n",
        "          IoU_list = []\r\n",
        "          for gt_box in box:\r\n",
        "            IoU = compute_IoU(i, gt_box)\r\n",
        "            IoU_list.append(IoU)\r\n",
        "          most_likely_gt_box_iou_score = max(IoU_list)\r\n",
        "          most_likely_gt_index = IoU_list.index(most_likely_gt_box_iou_score)\r\n",
        "          gt_box_coord = box[most_likely_gt_index]\r\n",
        "          if most_likely_gt_box_iou_score > 0:\r\n",
        "            gt_box_class = turb[most_likely_gt_index]\r\n",
        "          else:\r\n",
        "            gt_box_class = 0\r\n",
        "          \r\n",
        "          gt_box_coord_xywh = np.array([gt_box_coord[0],gt_box_coord[1],gt_box_coord[2]-gt_box_coord[0],gt_box_coord[3]-gt_box_coord[1]])\r\n",
        "\r\n",
        "\r\n",
        "\r\n",
        "          roi_dict = {\r\n",
        "              \"gt_box_iou_score\": most_likely_gt_box_iou_score,\r\n",
        "              \"gt_index\": most_likely_gt_index,\r\n",
        "              \"gt_box_coord\": gt_box_coord,\r\n",
        "              \"gt_box_coord_xywh\": gt_box_coord_xywh,\r\n",
        "              \"gt_box_class\": gt_box_class\r\n",
        "          }\r\n",
        "\r\n",
        "          proposed_roi_lable.append([i,roi_dict])\r\n",
        "\r\n",
        "        self.data.append([im, box, turb, proposed_roi_lable])\r\n",
        "\r\n",
        "          # print(most_likely_gt_box_iou_score, most_likely_gt_index, gt_box_coord, gt_box_class)\r\n",
        "\r\n",
        "\r\n",
        "\r\n",
        "\r\n",
        "    def __getitem__(self, index):\r\n",
        "      return self.data[index]\r\n",
        "\r\n",
        "    def __len__(self):\r\n",
        "        return len(self.imgs)"
      ],
      "execution_count": 85,
      "outputs": []
    },
    {
      "cell_type": "markdown",
      "metadata": {
        "id": "7zjFzgjBCgMk"
      },
      "source": [
        "# dataloader"
      ]
    },
    {
      "cell_type": "code",
      "metadata": {
        "id": "z1n1D9m5ChTn"
      },
      "source": [
        "test = torch.load('/content/data/test.pt')\n",
        "test_dataloader = torch.utils.data.DataLoader(test,batch_size=2,shuffle=False,collate_fn=collate_fn1)"
      ],
      "execution_count": 86,
      "outputs": []
    },
    {
      "cell_type": "markdown",
      "metadata": {
        "id": "rnFpGlKKCovB"
      },
      "source": [
        "#Data visulize"
      ]
    },
    {
      "cell_type": "code",
      "metadata": {
        "id": "gm5lfgiI6YQq"
      },
      "source": [
        "def imshow(img, gt_box, turb_type,pred_box=None,VMIN=0.77):#vmin is the minimum color threhold, since our color too light, we should increase the vmin\r\n",
        "    img=np.uint8(img*255)\r\n",
        "    PIL_img=transforms.ToPILImage()(img).convert('RGB')\r\n",
        "    grayscale_image = PIL_img.convert(\"L\")\r\n",
        "    grayscale_array = np.asarray(grayscale_image)/255\r\n",
        "    print(grayscale_array.shape)\r\n",
        "    imgplot = plt.imshow(grayscale_array, cmap=\"gray\",vmin=VMIN)\r\n",
        "    \r\n",
        "    def draw_box(box, turb_type):\r\n",
        "        x1, y1, x2, y2 = box\r\n",
        "        if x1 == 0:\r\n",
        "            x1 = 1\r\n",
        "        if y1 == 0:\r\n",
        "            y1 = 1\r\n",
        "        if x2 >= 840:\r\n",
        "          x2 = 839\r\n",
        "        if y2 >= 840:\r\n",
        "          y2 = 839\r\n",
        "        if turb_type==2:\r\n",
        "          color='red'\r\n",
        "        else:\r\n",
        "          color='green'\r\n",
        "        plt.gca().add_patch(\r\n",
        "            plt.Rectangle((x1, y1), x2-x1, y2-y1,\r\n",
        "                          fill=False, edgecolor=color, linewidth=2, alpha=0.5)\r\n",
        "        )\r\n",
        "    for i in range(len(box)):\r\n",
        "      draw_box(box[i],turb_type[i])\r\n",
        "    if pred_box is not None:\r\n",
        "        draw_box(pred_box, 'blue')\r\n",
        "    plt.plot()"
      ],
      "execution_count": 87,
      "outputs": []
    },
    {
      "cell_type": "code",
      "metadata": {
        "colab": {
          "base_uri": "https://localhost:8080/",
          "height": 286
        },
        "id": "Vc_1w_Ob6cUA",
        "outputId": "e06f0519-c80b-4435-8598-39a3a2feb458"
      },
      "source": [
        "dataset=test_dataloader.dataset\r\n",
        "im, box, turb, rois = dataset[4]\r\n",
        "\r\n",
        "inp = im.numpy().transpose((1, 2, 0))\r\n",
        "mean = np.array([0.485, 0.456, 0.406])\r\n",
        "std = np.array([0.229, 0.224, 0.225])\r\n",
        "inp = std * inp + mean\r\n",
        "imshow(inp, box,turb,VMIN=0.76) #select VMIN from 0.7-0.8"
      ],
      "execution_count": 90,
      "outputs": [
        {
          "output_type": "stream",
          "text": [
            "(840, 840)\n"
          ],
          "name": "stdout"
        },
        {
          "output_type": "display_data",
          "data": {
            "image/png": "[encoded data removed]",
            "text/plain": [
              "<Figure size 432x288 with 1 Axes>"
            ]
          },
          "metadata": {
            "tags": [],
            "needs_background": "light"
          }
        }
      ]
    },
    {
      "cell_type": "code",
      "metadata": {
        "colab": {
          "base_uri": "https://localhost:8080/",
          "height": 1000
        },
        "id": "OruxO1A_CtnT",
        "outputId": "97c87c26-f2a7-4497-aa4a-69fcfdd9c92f"
      },
      "source": [
        "plt.hist(inp.ravel(), bins=256, range=(0.0, 1.0), fc='k', ec='k')"
      ],
      "execution_count": 89,
      "outputs": [
        {
          "output_type": "execute_result",
          "data": {
            "text/plain": [
              "(array([0.00000e+00, 0.00000e+00, 0.00000e+00, 0.00000e+00, 0.00000e+00,\n",
              "        0.00000e+00, 0.00000e+00, 0.00000e+00, 0.00000e+00, 0.00000e+00,\n",
              "        0.00000e+00, 0.00000e+00, 0.00000e+00, 0.00000e+00, 0.00000e+00,\n",
              "        0.00000e+00, 0.00000e+00, 0.00000e+00, 0.00000e+00, 0.00000e+00,\n",
              "        0.00000e+00, 0.00000e+00, 0.00000e+00, 0.00000e+00, 0.00000e+00,\n",
              "        0.00000e+00, 0.00000e+00, 0.00000e+00, 0.00000e+00, 0.00000e+00,\n",
              "        0.00000e+00, 0.00000e+00, 0.00000e+00, 0.00000e+00, 0.00000e+00,\n",
              "        0.00000e+00, 0.00000e+00, 0.00000e+00, 0.00000e+00, 0.00000e+00,\n",
              "        0.00000e+00, 0.00000e+00, 0.00000e+00, 0.00000e+00, 0.00000e+00,\n",
              "        0.00000e+00, 0.00000e+00, 0.00000e+00, 0.00000e+00, 0.00000e+00,\n",
              "        0.00000e+00, 0.00000e+00, 0.00000e+00, 0.00000e+00, 0.00000e+00,\n",
              "        0.00000e+00, 0.00000e+00, 0.00000e+00, 0.00000e+00, 0.00000e+00,\n",
              "        0.00000e+00, 0.00000e+00, 0.00000e+00, 0.00000e+00, 0.00000e+00,\n",
              "        0.00000e+00, 0.00000e+00, 0.00000e+00, 0.00000e+00, 0.00000e+00,\n",
              "        0.00000e+00, 0.00000e+00, 0.00000e+00, 0.00000e+00, 0.00000e+00,\n",
              "        0.00000e+00, 0.00000e+00, 0.00000e+00, 0.00000e+00, 0.00000e+00,\n",
              "        0.00000e+00, 0.00000e+00, 0.00000e+00, 0.00000e+00, 0.00000e+00,\n",
              "        0.00000e+00, 0.00000e+00, 0.00000e+00, 0.00000e+00, 0.00000e+00,\n",
              "        0.00000e+00, 0.00000e+00, 0.00000e+00, 0.00000e+00, 0.00000e+00,\n",
              "        0.00000e+00, 0.00000e+00, 0.00000e+00, 0.00000e+00, 0.00000e+00,\n",
              "        0.00000e+00, 0.00000e+00, 0.00000e+00, 0.00000e+00, 0.00000e+00,\n",
              "        0.00000e+00, 0.00000e+00, 0.00000e+00, 0.00000e+00, 0.00000e+00,\n",
              "        0.00000e+00, 0.00000e+00, 0.00000e+00, 0.00000e+00, 0.00000e+00,\n",
              "        0.00000e+00, 0.00000e+00, 0.00000e+00, 0.00000e+00, 0.00000e+00,\n",
              "        0.00000e+00, 0.00000e+00, 0.00000e+00, 0.00000e+00, 0.00000e+00,\n",
              "        0.00000e+00, 0.00000e+00, 0.00000e+00, 0.00000e+00, 0.00000e+00,\n",
              "        0.00000e+00, 0.00000e+00, 0.00000e+00, 0.00000e+00, 0.00000e+00,\n",
              "        0.00000e+00, 0.00000e+00, 0.00000e+00, 0.00000e+00, 0.00000e+00,\n",
              "        0.00000e+00, 0.00000e+00, 0.00000e+00, 0.00000e+00, 0.00000e+00,\n",
              "        0.00000e+00, 0.00000e+00, 0.00000e+00, 0.00000e+00, 0.00000e+00,\n",
              "        0.00000e+00, 0.00000e+00, 0.00000e+00, 0.00000e+00, 0.00000e+00,\n",
              "        0.00000e+00, 0.00000e+00, 0.00000e+00, 0.00000e+00, 0.00000e+00,\n",
              "        0.00000e+00, 0.00000e+00, 0.00000e+00, 0.00000e+00, 0.00000e+00,\n",
              "        0.00000e+00, 0.00000e+00, 0.00000e+00, 0.00000e+00, 0.00000e+00,\n",
              "        0.00000e+00, 0.00000e+00, 0.00000e+00, 0.00000e+00, 0.00000e+00,\n",
              "        0.00000e+00, 0.00000e+00, 0.00000e+00, 0.00000e+00, 0.00000e+00,\n",
              "        0.00000e+00, 0.00000e+00, 0.00000e+00, 0.00000e+00, 0.00000e+00,\n",
              "        0.00000e+00, 0.00000e+00, 0.00000e+00, 0.00000e+00, 0.00000e+00,\n",
              "        0.00000e+00, 2.60000e+01, 8.36000e+02, 2.56000e+03, 7.75100e+03,\n",
              "        1.37940e+04, 2.83630e+04, 3.85110e+04, 5.93010e+04, 6.40980e+04,\n",
              "        7.28440e+04, 6.59380e+04, 7.90880e+04, 1.15321e+05, 1.36325e+05,\n",
              "        1.21223e+05, 1.21043e+05, 6.90210e+04, 8.15480e+04, 6.88550e+04,\n",
              "        5.92760e+04, 6.10550e+04, 5.42220e+04, 4.94890e+04, 5.35040e+04,\n",
              "        5.24890e+04, 4.21050e+04, 3.26910e+04, 2.94890e+04, 3.19400e+04,\n",
              "        3.00560e+04, 2.58080e+04, 2.28980e+04, 2.26560e+04, 2.25650e+04,\n",
              "        2.49500e+04, 3.27130e+04, 3.64760e+04, 3.60340e+04, 3.49840e+04,\n",
              "        4.35610e+04, 3.79930e+04, 3.67430e+04, 2.67410e+04, 2.32580e+04,\n",
              "        1.89270e+04, 9.10700e+03, 7.46600e+03, 3.82700e+03, 2.77500e+03,\n",
              "        2.08900e+03, 1.25100e+03, 7.45000e+02, 4.41000e+02, 3.00000e+01,\n",
              "        0.00000e+00, 0.00000e+00, 0.00000e+00, 0.00000e+00, 0.00000e+00,\n",
              "        0.00000e+00, 0.00000e+00, 0.00000e+00, 0.00000e+00, 0.00000e+00,\n",
              "        0.00000e+00]),\n",
              " array([0.        , 0.00390625, 0.0078125 , 0.01171875, 0.015625  ,\n",
              "        0.01953125, 0.0234375 , 0.02734375, 0.03125   , 0.03515625,\n",
              "        0.0390625 , 0.04296875, 0.046875  , 0.05078125, 0.0546875 ,\n",
              "        0.05859375, 0.0625    , 0.06640625, 0.0703125 , 0.07421875,\n",
              "        0.078125  , 0.08203125, 0.0859375 , 0.08984375, 0.09375   ,\n",
              "        0.09765625, 0.1015625 , 0.10546875, 0.109375  , 0.11328125,\n",
              "        0.1171875 , 0.12109375, 0.125     , 0.12890625, 0.1328125 ,\n",
              "        0.13671875, 0.140625  , 0.14453125, 0.1484375 , 0.15234375,\n",
              "        0.15625   , 0.16015625, 0.1640625 , 0.16796875, 0.171875  ,\n",
              "        0.17578125, 0.1796875 , 0.18359375, 0.1875    , 0.19140625,\n",
              "        0.1953125 , 0.19921875, 0.203125  , 0.20703125, 0.2109375 ,\n",
              "        0.21484375, 0.21875   , 0.22265625, 0.2265625 , 0.23046875,\n",
              "        0.234375  , 0.23828125, 0.2421875 , 0.24609375, 0.25      ,\n",
              "        0.25390625, 0.2578125 , 0.26171875, 0.265625  , 0.26953125,\n",
              "        0.2734375 , 0.27734375, 0.28125   , 0.28515625, 0.2890625 ,\n",
              "        0.29296875, 0.296875  , 0.30078125, 0.3046875 , 0.30859375,\n",
              "        0.3125    , 0.31640625, 0.3203125 , 0.32421875, 0.328125  ,\n",
              "        0.33203125, 0.3359375 , 0.33984375, 0.34375   , 0.34765625,\n",
              "        0.3515625 , 0.35546875, 0.359375  , 0.36328125, 0.3671875 ,\n",
              "        0.37109375, 0.375     , 0.37890625, 0.3828125 , 0.38671875,\n",
              "        0.390625  , 0.39453125, 0.3984375 , 0.40234375, 0.40625   ,\n",
              "        0.41015625, 0.4140625 , 0.41796875, 0.421875  , 0.42578125,\n",
              "        0.4296875 , 0.43359375, 0.4375    , 0.44140625, 0.4453125 ,\n",
              "        0.44921875, 0.453125  , 0.45703125, 0.4609375 , 0.46484375,\n",
              "        0.46875   , 0.47265625, 0.4765625 , 0.48046875, 0.484375  ,\n",
              "        0.48828125, 0.4921875 , 0.49609375, 0.5       , 0.50390625,\n",
              "        0.5078125 , 0.51171875, 0.515625  , 0.51953125, 0.5234375 ,\n",
              "        0.52734375, 0.53125   , 0.53515625, 0.5390625 , 0.54296875,\n",
              "        0.546875  , 0.55078125, 0.5546875 , 0.55859375, 0.5625    ,\n",
              "        0.56640625, 0.5703125 , 0.57421875, 0.578125  , 0.58203125,\n",
              "        0.5859375 , 0.58984375, 0.59375   , 0.59765625, 0.6015625 ,\n",
              "        0.60546875, 0.609375  , 0.61328125, 0.6171875 , 0.62109375,\n",
              "        0.625     , 0.62890625, 0.6328125 , 0.63671875, 0.640625  ,\n",
              "        0.64453125, 0.6484375 , 0.65234375, 0.65625   , 0.66015625,\n",
              "        0.6640625 , 0.66796875, 0.671875  , 0.67578125, 0.6796875 ,\n",
              "        0.68359375, 0.6875    , 0.69140625, 0.6953125 , 0.69921875,\n",
              "        0.703125  , 0.70703125, 0.7109375 , 0.71484375, 0.71875   ,\n",
              "        0.72265625, 0.7265625 , 0.73046875, 0.734375  , 0.73828125,\n",
              "        0.7421875 , 0.74609375, 0.75      , 0.75390625, 0.7578125 ,\n",
              "        0.76171875, 0.765625  , 0.76953125, 0.7734375 , 0.77734375,\n",
              "        0.78125   , 0.78515625, 0.7890625 , 0.79296875, 0.796875  ,\n",
              "        0.80078125, 0.8046875 , 0.80859375, 0.8125    , 0.81640625,\n",
              "        0.8203125 , 0.82421875, 0.828125  , 0.83203125, 0.8359375 ,\n",
              "        0.83984375, 0.84375   , 0.84765625, 0.8515625 , 0.85546875,\n",
              "        0.859375  , 0.86328125, 0.8671875 , 0.87109375, 0.875     ,\n",
              "        0.87890625, 0.8828125 , 0.88671875, 0.890625  , 0.89453125,\n",
              "        0.8984375 , 0.90234375, 0.90625   , 0.91015625, 0.9140625 ,\n",
              "        0.91796875, 0.921875  , 0.92578125, 0.9296875 , 0.93359375,\n",
              "        0.9375    , 0.94140625, 0.9453125 , 0.94921875, 0.953125  ,\n",
              "        0.95703125, 0.9609375 , 0.96484375, 0.96875   , 0.97265625,\n",
              "        0.9765625 , 0.98046875, 0.984375  , 0.98828125, 0.9921875 ,\n",
              "        0.99609375, 1.        ]),\n",
              " <a list of 256 Patch objects>)"
            ]
          },
          "metadata": {
            "tags": []
          },
          "execution_count": 89
        },
        {
          "output_type": "display_data",
          "data": {
            "image/png": "[encoded data removed]",
            "text/plain": [
              "<Figure size 432x288 with 1 Axes>"
            ]
          },
          "metadata": {
            "tags": [],
            "needs_background": "light"
          }
        }
      ]
    }
  ]
}