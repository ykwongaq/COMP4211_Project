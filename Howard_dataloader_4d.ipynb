{
  "nbformat": 4,
  "nbformat_minor": 0,
  "metadata": {
    "kernelspec": {
      "display_name": "Python 3",
      "language": "python",
      "name": "python3"
    },
    "language_info": {
      "codemirror_mode": {
        "name": "ipython",
        "version": 3
      },
      "file_extension": ".py",
      "mimetype": "text/x-python",
      "name": "python",
      "nbconvert_exporter": "python",
      "pygments_lexer": "ipython3",
      "version": "3.8.5"
    },
    "colab": {
      "name": "Howard_dataloader_4d.ipynb",
      "provenance": [],
      "collapsed_sections": []
    }
  },
  "cells": [
    {
      "cell_type": "code",
      "metadata": {
        "id": "hT42F05lCKtv"
      },
      "source": [
        "import time\n",
        "import os\n",
        "import random\n",
        "import math\n",
        "\n",
        "import torch\n",
        "import torchvision\n",
        "import torch.nn as nn\n",
        "import torch.optim as optim\n",
        "import numpy as np\n",
        "import matplotlib.pyplot as plt\n",
        "from torch.utils.data import Dataset\n",
        "from torch.optim import lr_scheduler\n",
        "from torch.autograd import Variable\n",
        "from torchvision import transforms, models\n",
        "from PIL import Image\n",
        "from sklearn.model_selection import KFold\n",
        "from tqdm.auto import tqdm\n",
        "\n",
        "%matplotlib inline"
      ],
      "execution_count": 1,
      "outputs": []
    },
    {
      "cell_type": "code",
      "metadata": {
        "colab": {
          "base_uri": "https://localhost:8080/"
        },
        "id": "1WUXmPLACKtv",
        "outputId": "371232cd-3d92-42ac-b9e8-746351ad257c"
      },
      "source": [
        "assert os.environ['COLAB_GPU'], 'Make sure to select GPU from Edit > Notebook settings > Hardware accelerator'\n",
        "from google.colab import drive\n",
        "drive.mount('/content/drive')"
      ],
      "execution_count": 2,
      "outputs": [
        {
          "output_type": "stream",
          "text": [
            "Mounted at /content/drive\n"
          ],
          "name": "stdout"
        }
      ]
    },
    {
      "cell_type": "code",
      "metadata": {
        "id": "qsyFTu4rCP3G"
      },
      "source": [
        "!rm -f data\n",
        "!ln -s '/content/drive/My Drive/proj2_data' data"
      ],
      "execution_count": 3,
      "outputs": []
    },
    {
      "cell_type": "markdown",
      "metadata": {
        "id": "w4CcEo-6b_pt"
      },
      "source": [
        "#some utility"
      ]
    },
    {
      "cell_type": "code",
      "metadata": {
        "id": "91s6zJTTDfXc"
      },
      "source": [
        "def collate_fn1(batch):\n",
        "    return tuple(zip(*batch))\n",
        "\n",
        "def imshow(img, gt_box, turb_type,pred_box=None):\n",
        "    plt.imshow(img)\n",
        "    \n",
        "    def draw_box(box, turb_type):\n",
        "        x, y, w, h = box\n",
        "        if x == 0:\n",
        "            x = 1\n",
        "        if y == 0:\n",
        "            y = 1\n",
        "        if turb_type==2:\n",
        "          color='red'\n",
        "        else:\n",
        "          color='green'\n",
        "        plt.gca().add_patch(\n",
        "            plt.Rectangle((x, y), w-x, h-y,\n",
        "                          fill=False, edgecolor=color, linewidth=2, alpha=0.5)\n",
        "        )\n",
        "    for i in range(len(box)):\n",
        "      draw_box(box[i],turb_type[i])\n",
        "    if pred_box is not None:\n",
        "        draw_box(pred_box, 'blue')\n",
        "    plt.plot()"
      ],
      "execution_count": 4,
      "outputs": []
    },
    {
      "cell_type": "markdown",
      "metadata": {
        "id": "Kfhg8gxbb5_X"
      },
      "source": [
        "# define dataset"
      ]
    },
    {
      "cell_type": "code",
      "metadata": {
        "id": "-qKZNx9MCclp"
      },
      "source": [
        "class MyDataset(Dataset):\n",
        "    def __init__(self, datatype='train', transform=None):\n",
        "        with open('data/bbox_'+datatype+'.csv') as f:\n",
        "            id_to_box = dict()\n",
        "            id_to_path = dict()\n",
        "            id_to_turb= dict()\n",
        "            last_name='none'\n",
        "            idx=-1\n",
        "            for line in f.read().splitlines():\n",
        "                filename, wid, hei, turb, *box = line.split(',') # get all variable\n",
        "                if turb =='severe turbulence':\n",
        "                  turb_no=2\n",
        "                else:\n",
        "                  turb_no=1\n",
        "                if filename == 'filename': # skip the title\n",
        "                  continue\n",
        "\n",
        "                if filename==last_name:\n",
        "                  id_to_box[idx].append(list(map(float, box)))\n",
        "                  id_to_turb[idx].append(turb_no)\n",
        "                  \n",
        "                else:\n",
        "                  idx=idx+1\n",
        "                  id_to_path[idx]=filename\n",
        "                  id_to_box[idx]=[list(map(float, box))]\n",
        "                  id_to_turb[idx]=[turb_no]\n",
        "                  last_name=filename\n",
        "\n",
        "            self.imgs = [(os.path.join('data/'+datatype, id_to_path[i]), id_to_box[i],id_to_turb[i])\n",
        "                     for i in range(len(id_to_path))]\n",
        "\n",
        "            #transform data\n",
        "            self.target_transform = transforms.Compose([\n",
        "                #transforms.Resize((840, 840)),\n",
        "                transforms.ToTensor()\n",
        "            ])\n",
        "            self.transform = transforms.Compose([\n",
        "                self.target_transform,\n",
        "                #transforms.Normalize([0.485, 0.456, 0.406], [0.229, 0.224, 0.225])\n",
        "            ])\n",
        "            if transform is not None:\n",
        "                self.transform = transforms.Compose([\n",
        "                    transform,\n",
        "                    self.transform\n",
        "                ])\n",
        "                self.target_transform = transforms.Compose([\n",
        "                    transform,\n",
        "                    self.target_transform\n",
        "                ])\n",
        "\n",
        "    def __getitem__(self, index):\n",
        "      path, box, turb = self.imgs[index]\n",
        "      im = (np.load(path))#/292*255\n",
        "      im = im[:, :, :840]\n",
        "      maxim=np.max(im)\n",
        "      im=np.transpose(im,(1, 2, 0))/maxim*255\n",
        "\n",
        "      boxes = np.array(box, dtype='float32')\n",
        "      im = self.transform(im)\n",
        "\n",
        "      #return im,target\n",
        "      return im, boxes, turb\n",
        "\n",
        "    def __len__(self):\n",
        "        return len(self.imgs)"
      ],
      "execution_count": 14,
      "outputs": []
    },
    {
      "cell_type": "markdown",
      "metadata": {
        "id": "7zjFzgjBCgMk"
      },
      "source": [
        "# dataloader"
      ]
    },
    {
      "cell_type": "code",
      "metadata": {
        "id": "z1n1D9m5ChTn"
      },
      "source": [
        "train=MyDataset(datatype='train', transform=None)\n",
        "test=MyDataset(datatype='test', transform=None)\n",
        "val=MyDataset(datatype='val', transform=None)\n",
        "datasets={'train':train,'test':test,'val':val}\n",
        "dataloaders = {k: torch.utils.data.DataLoader(\n",
        "                v, batch_size=2, shuffle=(k=='train'),\n",
        "                num_workers=2, collate_fn=collate_fn1) for k, v in datasets.items()}"
      ],
      "execution_count": 15,
      "outputs": []
    },
    {
      "cell_type": "markdown",
      "metadata": {
        "id": "rnFpGlKKCovB"
      },
      "source": [
        "#Data visulize"
      ]
    },
    {
      "cell_type": "code",
      "metadata": {
        "colab": {
          "base_uri": "https://localhost:8080/",
          "height": 269
        },
        "id": "eIA-o0-hCsw4",
        "outputId": "05590197-c0bc-4566-a26f-6e5bb2bf19b9"
      },
      "source": [
        "#transform1=transforms.Compose([transforms.ColorJitter(hue=0.1)])\n",
        "dataset=MyDataset(datatype='train',transform=None)\n",
        "im, box, turb = dataset[0]\n",
        "\n",
        "inp = im.numpy().transpose((1, 2, 0))/255\n",
        "imshow(inp, box,turb)\n"
      ],
      "execution_count": 18,
      "outputs": [
        {
          "output_type": "display_data",
          "data": {
            "image/png": "[encoded data removed]",
            "text/plain": [
              "<Figure size 432x288 with 1 Axes>"
            ]
          },
          "metadata": {
            "tags": [],
            "needs_background": "light"
          }
        }
      ]
    },
    {
      "cell_type": "code",
      "metadata": {
        "colab": {
          "base_uri": "https://localhost:8080/"
        },
        "id": "Fr4XSU7nOGnp",
        "outputId": "84e78508-155c-4591-a13a-852e8d699e8a"
      },
      "source": [
        "yyy=train[0]\n",
        "yyy[0].size()"
      ],
      "execution_count": 16,
      "outputs": [
        {
          "output_type": "execute_result",
          "data": {
            "text/plain": [
              "torch.Size([4, 840, 840])"
            ]
          },
          "metadata": {
            "tags": []
          },
          "execution_count": 16
        }
      ]
    },
    {
      "cell_type": "code",
      "metadata": {
        "colab": {
          "base_uri": "https://localhost:8080/"
        },
        "id": "q3wFInjoSdN9",
        "outputId": "1cfa0e3b-c175-43dc-9718-65b59b70f741"
      },
      "source": [
        "idx=0\r\n",
        "for i in enumerate(dataloaders['train']):\r\n",
        "  print(i)\r\n",
        "  idx=idx+1\r\n",
        "  if idx==2:break\r\n"
      ],
      "execution_count": 17,
      "outputs": [
        {
          "output_type": "stream",
          "text": [
            "(0, ((tensor([[[196.0905, 201.9489, 201.9489,  ..., 196.2965, 196.2965, 196.2965],\n",
            "         [196.2965, 201.9489, 201.9489,  ..., 196.0905, 196.2965, 196.2965],\n",
            "         [196.2965, 202.1115, 201.9489,  ..., 196.0905, 196.2965, 196.0905],\n",
            "         ...,\n",
            "         [209.5469, 210.5110, 210.5110,  ..., 210.0331, 209.9124, 209.9124],\n",
            "         [209.5469, 210.5110, 210.5110,  ..., 210.0331, 209.9124, 209.9124],\n",
            "         [209.5469, 210.5110, 210.3923,  ..., 209.7911, 209.7911, 209.7911]],\n",
            "\n",
            "        [[199.6969, 216.4512, 216.4512,  ..., 200.1507, 200.1507, 200.1507],\n",
            "         [199.9244, 216.4512, 216.4512,  ..., 200.1507, 200.1507, 200.1507],\n",
            "         [200.0942, 216.7731, 215.7608,  ..., 199.8676, 200.0942, 199.8676],\n",
            "         ...,\n",
            "         [227.1718, 214.0154, 214.0154,  ..., 227.2051, 227.1718, 227.1718],\n",
            "         [227.1718, 213.5484, 213.5484,  ..., 227.2051, 227.1718, 227.1718],\n",
            "         [227.1049, 213.5484, 212.6885,  ..., 227.1049, 227.2051, 227.2051]],\n",
            "\n",
            "        [[203.3759, 240.7319, 240.7319,  ..., 204.2103, 204.2103, 204.2103],\n",
            "         [203.9173, 240.7319, 240.7319,  ..., 204.4532, 204.2103, 204.2103],\n",
            "         [204.1616, 241.0598, 239.1270,  ..., 203.7211, 204.1616, 203.7211],\n",
            "         ...,\n",
            "         [243.6619, 224.8097, 224.8097,  ..., 243.6355, 243.7147, 243.7147],\n",
            "         [243.6619, 224.6727, 224.6727,  ..., 243.6355, 243.7147, 243.7147],\n",
            "         [243.5298, 224.6727, 223.3922,  ..., 243.6619, 243.5827, 243.5827]],\n",
            "\n",
            "        [[202.4011, 240.2857, 240.2857,  ..., 203.3516, 203.3516, 203.3516],\n",
            "         [202.9733, 240.2857, 240.2857,  ..., 203.5398, 203.3516, 203.3516],\n",
            "         [203.3516, 241.0096, 238.7912,  ..., 202.6879, 203.3516, 202.6879],\n",
            "         ...,\n",
            "         [243.9819, 224.4332, 224.4332,  ..., 243.9819, 244.0355, 244.0355],\n",
            "         [243.9819, 224.4332, 224.4332,  ..., 243.9819, 244.0355, 244.0355],\n",
            "         [243.9014, 224.4332, 223.2657,  ..., 243.9551, 243.9282, 243.9282]]]), tensor([[[195.4325, 195.6049, 195.6049,  ..., 201.6744, 201.6744, 201.6744],\n",
            "         [195.2590, 195.4325, 195.4325,  ..., 201.6744, 201.6744, 201.6744],\n",
            "         [195.2590, 195.2590, 195.4325,  ..., 201.2660, 201.1284, 201.1284],\n",
            "         ...,\n",
            "         [204.9724, 204.8528, 204.8528,  ..., 210.5724, 210.5724, 210.5724],\n",
            "         [204.9724, 204.9724, 204.8528,  ..., 210.5724, 210.5724, 210.6699],\n",
            "         [204.7327, 204.7327, 204.8528,  ..., 210.5724, 210.5724, 210.6699]],\n",
            "\n",
            "        [[204.3197, 205.3578, 205.3578,  ..., 205.7137, 206.9394, 206.9394],\n",
            "         [202.4588, 203.3984, 203.3984,  ..., 205.7137, 206.9394, 206.9394],\n",
            "         [202.4588, 202.4588, 203.3984,  ..., 206.1110, 206.3304, 206.3304],\n",
            "         ...,\n",
            "         [214.2565, 216.1372, 216.1372,  ..., 229.6253, 229.6253, 227.9577],\n",
            "         [214.2565, 214.2565, 216.1372,  ..., 229.0160, 228.1649, 226.7304],\n",
            "         [212.2299, 212.2299, 215.1496,  ..., 229.0160, 228.1649, 226.7304]],\n",
            "\n",
            "        [[216.2329, 217.9422, 217.9422,  ..., 218.2512, 219.9073, 219.9073],\n",
            "         [213.0011, 214.7655, 214.7655,  ..., 218.2512, 219.9073, 219.9073],\n",
            "         [213.0011, 213.0011, 214.7655,  ..., 218.8306, 219.0339, 219.0339],\n",
            "         ...,\n",
            "         [227.1080, 229.7836, 229.7836,  ..., 249.1068, 249.1068, 246.6967],\n",
            "         [227.1080, 227.1080, 229.7836,  ..., 248.2651, 247.1610, 245.1941],\n",
            "         [224.3258, 224.3258, 228.3555,  ..., 248.2651, 247.1610, 245.1941]],\n",
            "\n",
            "        [[215.1863, 216.9667, 216.9667,  ..., 217.5502, 219.4056, 219.4056],\n",
            "         [211.7774, 213.3946, 213.3946,  ..., 217.5502, 219.4056, 219.4056],\n",
            "         [211.7774, 211.7774, 213.3946,  ..., 218.0610, 218.3996, 218.3996],\n",
            "         ...,\n",
            "         [225.9957, 227.8634, 227.8634,  ..., 248.2152, 248.2152, 246.1843],\n",
            "         [225.9957, 225.9957, 227.8634,  ..., 247.4794, 246.4495, 244.7982],\n",
            "         [223.1382, 223.1382, 226.7240,  ..., 247.4794, 246.4495, 244.7982]]])), (array([[196., 273., 450., 340.],\n",
            "       [118., 359., 287., 418.],\n",
            "       [  1., 410., 138., 529.]], dtype=float32), array([[352., 634., 438., 688.],\n",
            "       [323., 380., 497., 539.],\n",
            "       [579., 441., 741., 543.],\n",
            "       [156., 576., 285., 683.]], dtype=float32)), ([1, 1, 1], [1, 1, 1, 1])))\n",
            "(1, ((tensor([[[196.2052, 196.2052, 196.3470,  ..., 196.6284, 196.7679, 196.7679],\n",
            "         [196.2052, 196.2052, 196.2052,  ..., 196.6284, 196.7679, 196.7679],\n",
            "         [196.2052, 196.2052, 196.2052,  ..., 197.0446, 197.0446, 196.9066],\n",
            "         ...,\n",
            "         [196.3470, 196.3470, 196.4881,  ..., 192.8601, 192.8601, 192.6966],\n",
            "         [196.3470, 196.3470, 196.6284,  ..., 192.5321, 192.8601, 192.8601],\n",
            "         [196.3470, 196.3470, 196.3470,  ..., 192.5321, 193.0224, 193.0224]],\n",
            "\n",
            "        [[211.9390, 211.9390, 211.8675,  ..., 198.0089, 198.0562, 198.0562],\n",
            "         [211.9390, 211.9390, 211.9390,  ..., 198.0089, 198.0562, 198.0562],\n",
            "         [212.1887, 212.1887, 211.9390,  ..., 204.2503, 204.2503, 203.0315],\n",
            "         ...,\n",
            "         [220.0421, 220.0421, 219.6693,  ..., 197.2930, 197.2930, 197.8190],\n",
            "         [219.6069, 219.6069, 219.6069,  ..., 196.5656, 197.2930, 197.3891],\n",
            "         [219.6069, 219.6069, 219.6069,  ..., 196.4187, 197.2448, 197.2448]],\n",
            "\n",
            "        [[247.5708, 247.5708, 247.6782,  ..., 217.7301, 217.1547, 217.1547],\n",
            "         [247.5708, 247.5708, 247.5708,  ..., 217.7301, 217.1547, 217.1547],\n",
            "         [248.1916, 248.1916, 247.5708,  ..., 233.2927, 233.2927, 231.0137],\n",
            "         ...,\n",
            "         [250.3833, 250.3833, 249.4834,  ..., 203.8585, 203.8585, 204.6564],\n",
            "         [249.6935, 249.6935, 248.7445,  ..., 202.5982, 203.8585, 204.2190],\n",
            "         [249.6935, 249.6935, 249.6935,  ..., 202.2682, 203.9388, 203.9388]],\n",
            "\n",
            "        [[249.3424, 249.3424, 249.3863,  ..., 216.1778, 215.7887, 215.7887],\n",
            "         [249.3424, 249.3424, 249.3424,  ..., 216.1778, 215.7887, 215.7887],\n",
            "         [249.9329, 249.9329, 249.3424,  ..., 232.9407, 232.9407, 230.0734],\n",
            "         ...,\n",
            "         [249.7146, 249.7146, 249.1008,  ..., 202.4164, 202.4164, 203.3270],\n",
            "         [249.2546, 249.2546, 248.5718,  ..., 201.3703, 202.4164, 202.8140],\n",
            "         [249.2546, 249.2546, 249.2546,  ..., 201.0447, 202.4164, 202.4164]]]), tensor([[[188.0141, 188.0141, 188.0141,  ..., 189.7198, 189.7198, 189.7198],\n",
            "         [188.0141, 188.0141, 188.0141,  ..., 189.2455, 189.7198, 189.7198],\n",
            "         [188.0141, 188.0141, 187.7594,  ..., 189.2455, 189.2455, 189.7198],\n",
            "         ...,\n",
            "         [203.4435, 203.4435, 203.7100,  ..., 203.5771, 203.5771, 203.5771],\n",
            "         [203.8422, 203.8422, 203.8422,  ..., 203.4435, 203.4435, 203.4435],\n",
            "         [203.8422, 203.8422, 203.8422,  ..., 203.4435, 203.4435, 203.4435]],\n",
            "\n",
            "        [[193.7014, 193.7014, 193.7014,  ..., 194.8264, 194.8264, 194.8264],\n",
            "         [193.8213, 193.7014, 193.7014,  ..., 194.4743, 194.6507, 194.6507],\n",
            "         [193.7014, 193.7014, 193.6414,  ..., 194.4743, 194.4743, 194.6507],\n",
            "         ...,\n",
            "         [209.7131, 209.7131, 212.9146,  ..., 207.9898, 207.9898, 207.9898],\n",
            "         [213.9004, 213.9004, 213.9004,  ..., 208.1211, 208.1211, 208.1211],\n",
            "         [213.9004, 213.9004, 213.9004,  ..., 207.8141, 208.1211, 208.1211]],\n",
            "\n",
            "        [[189.7137, 189.7137, 189.7137,  ..., 193.8883, 193.8883, 193.8883],\n",
            "         [189.8350, 189.7137, 189.7137,  ..., 192.6528, 193.3308, 193.3308],\n",
            "         [189.9560, 189.9560, 189.2864,  ..., 192.6528, 192.6528, 193.3308],\n",
            "         ...,\n",
            "         [223.6399, 223.6399, 230.3139,  ..., 218.5443, 218.5443, 218.5443],\n",
            "         [231.3960, 231.3960, 231.3960,  ..., 218.4740, 218.4740, 218.4740],\n",
            "         [231.3960, 231.3960, 231.3960,  ..., 218.4740, 218.4740, 218.4740]],\n",
            "\n",
            "        [[188.8275, 188.8275, 188.8275,  ..., 192.5931, 192.5931, 192.5931],\n",
            "         [188.8849, 188.8275, 188.8275,  ..., 191.8946, 192.1105, 192.1105],\n",
            "         [189.1142, 189.1142, 188.4810,  ..., 191.8946, 191.8946, 192.1105],\n",
            "         ...,\n",
            "         [223.0045, 223.0045, 228.2880,  ..., 217.5614, 217.5614, 217.5614],\n",
            "         [230.0912, 230.0912, 230.0912,  ..., 217.7018, 217.7018, 217.7018],\n",
            "         [230.0912, 230.0912, 230.0912,  ..., 217.3150, 217.7018, 217.7018]]])), (array([[463., 204., 611., 285.],\n",
            "       [198., 288., 525., 407.],\n",
            "       [723., 739., 839., 840.]], dtype=float32), array([[360., 404., 489., 439.],\n",
            "       [669., 464., 837., 567.]], dtype=float32)), ([1, 1, 1], [1, 1])))\n"
          ],
          "name": "stdout"
        }
      ]
    }
  ]
}